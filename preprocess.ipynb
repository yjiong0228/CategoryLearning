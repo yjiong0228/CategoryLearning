{
 "cells": [
  {
   "cell_type": "code",
   "execution_count": 5,
   "id": "7a41b47b",
   "metadata": {},
   "outputs": [],
   "source": [
    "import pandas as pd\n",
    "df = pd.read_csv('./data/raw/Task2/Task2_1_rec.csv')\n",
    "df['text'].to_csv('./text/Task2_1_rec.csv', index=False, header=False)"
   ]
  },
  {
   "cell_type": "code",
   "execution_count": 6,
   "id": "9330b380",
   "metadata": {},
   "outputs": [
    {
     "name": "stdout",
     "output_type": "stream",
     "text": [
      "[0.75, 0.75, 0.75, 0.75]\n"
     ]
    }
   ],
   "source": [
    "def map_to_4d_space(description):\n",
    "    # 定义特征映射字典\n",
    "    feature_mapping = {\n",
    "        '长': 0.75,\n",
    "        '短': 0.25,\n",
    "        '中等': 0.5,\n",
    "        '适中': 0.5,\n",
    "        '最长': 0.8,\n",
    "        '最短': 0.4\n",
    "    }\n",
    "    \n",
    "    # 默认值\n",
    "    default_value = 0.5\n",
    "    \n",
    "    # 四个特征的初始值\n",
    "    features = {\n",
    "        '头': default_value,\n",
    "        '脖子': default_value,\n",
    "        '腿': default_value,\n",
    "        '尾巴': default_value\n",
    "    }\n",
    "    \n",
    "    # 处理描述中的特征\n",
    "    for feature in features:\n",
    "        for key in feature_mapping:\n",
    "            if key in description and feature in description:\n",
    "                # 找到匹配的特征并更新值\n",
    "                features[feature] = feature_mapping[key]\n",
    "                break\n",
    "\n",
    "    # 映射结果顺序：头, 脖子, 腿, 尾巴\n",
    "    return [features['头'], features['脖子'], features['腿'], features['尾巴']]\n",
    "\n",
    "# 示例使用\n",
    "description = \"脖子长，头中等，腿短，尾巴最长\"\n",
    "result = map_to_4d_space(description)\n",
    "print(result)\n"
   ]
  },
  {
   "cell_type": "code",
   "execution_count": 1,
   "id": "f870f64d",
   "metadata": {},
   "outputs": [],
   "source": [
    "from glob import glob\n",
    "import os\n",
    "from src.preprocess_b import Recording_Processor\n",
    "processor = Recording_Processor()"
   ]
  },
  {
   "cell_type": "code",
   "execution_count": 2,
   "id": "3ee018f8",
   "metadata": {},
   "outputs": [
    {
     "data": {
      "text/plain": [
       "({'exclusion': [None, None, None, None],\n",
       "  'superlative': [None, None, None, None],\n",
       "  'universal_quantifier': [None, None, None, None],\n",
       "  'exclusive_case': [None, None, None, None],\n",
       "  'comparison': [None, None, None, None],\n",
       "  'general_case': [None, None, None, None],\n",
       "  'addition': [None, None, None, None],\n",
       "  'all': [0.5, 0.5, 0.5, 0.5]},\n",
       " ['尾巴长于或等于中间长度'])"
      ]
     },
     "execution_count": 2,
     "metadata": {},
     "output_type": "execute_result"
    }
   ],
   "source": [
    "processor.extract_values(\"尾巴长于或等于中间长度\")"
   ]
  },
  {
   "cell_type": "code",
   "execution_count": 1,
   "id": "1e3bfe88",
   "metadata": {},
   "outputs": [
    {
     "name": "stdout",
     "output_type": "stream",
     "text": [
      "Processed ./data/raw/Task2\\Task2_1_rec.csv to ./text/Task2_1_convert_rec.csv\n",
      "Processed ./data/raw/Task2\\Task2_2_rec.csv to ./text/Task2_2_convert_rec.csv\n",
      "Processed ./data/raw/Task2\\Task2_3_rec.csv to ./text/Task2_3_convert_rec.csv\n",
      "Processed ./data/raw/Task2\\Task2_4_rec.csv to ./text/Task2_4_convert_rec.csv\n",
      "Processed ./data/raw/Task2\\Task2_5_rec.csv to ./text/Task2_5_convert_rec.csv\n",
      "Processed ./data/raw/Task2\\Task2_6_rec.csv to ./text/Task2_6_convert_rec.csv\n",
      "Processed ./data/raw/Task2\\Task2_7_rec.csv to ./text/Task2_7_convert_rec.csv\n",
      "Processed ./data/raw/Task2\\Task2_8_rec.csv to ./text/Task2_8_convert_rec.csv\n",
      "Processed ./data/raw/Task2\\Task2_9_rec.csv to ./text/Task2_9_convert_rec.csv\n",
      "Processed ./data/raw/Task2\\Task2_10_rec.csv to ./text/Task2_10_convert_rec.csv\n",
      "Processed ./data/raw/Task2\\Task2_11_rec.csv to ./text/Task2_11_convert_rec.csv\n",
      "Processed ./data/raw/Task2\\Task2_12_rec.csv to ./text/Task2_12_convert_rec.csv\n",
      "Processed ./data/raw/Task2\\Task2_13_rec.csv to ./text/Task2_13_convert_rec.csv\n",
      "Processed ./data/raw/Task2\\Task2_14_rec.csv to ./text/Task2_14_convert_rec.csv\n",
      "Processed ./data/raw/Task2\\Task2_15_rec.csv to ./text/Task2_15_convert_rec.csv\n",
      "Processed ./data/raw/Task2\\Task2_16_rec.csv to ./text/Task2_16_convert_rec.csv\n",
      "Processed ./data/raw/Task2\\Task2_17_rec.csv to ./text/Task2_17_convert_rec.csv\n",
      "Processed ./data/raw/Task2\\Task2_18_rec.csv to ./text/Task2_18_convert_rec.csv\n",
      "Processed ./data/raw/Task2\\Task2_19_rec.csv to ./text/Task2_19_convert_rec.csv\n",
      "Processed ./data/raw/Task2\\Task2_20_rec.csv to ./text/Task2_20_convert_rec.csv\n",
      "Processed ./data/raw/Task2\\Task2_21_rec.csv to ./text/Task2_21_convert_rec.csv\n",
      "Processed ./data/raw/Task2\\Task2_22_rec.csv to ./text/Task2_22_convert_rec.csv\n",
      "Processed ./data/raw/Task2\\Task2_23_rec.csv to ./text/Task2_23_convert_rec.csv\n",
      "Processed ./data/raw/Task2\\Task2_24_rec.csv to ./text/Task2_24_convert_rec.csv\n"
     ]
    }
   ],
   "source": [
    "from glob import glob\n",
    "import os\n",
    "from src.preprocess_b import Recording_Processor\n",
    "processor = Recording_Processor()\n",
    "files = glob('./data/raw/Task2/*_rec.csv')\n",
    "files.sort(key=lambda x: int(x.split('_')[-2]))\n",
    "for file in files:\n",
    "    file_name = file.split('\\\\')[-1].split('.')[0][:-4]\n",
    "    new_file_path = os.path.join('./text/', file_name + '_convert_rec.csv')\n",
    "    processor.process(file, new_file_path)\n",
    "    print(f'Processed {file} to {new_file_path}')\n"
   ]
  },
  {
   "cell_type": "code",
   "execution_count": 2,
   "id": "4581c50f",
   "metadata": {},
   "outputs": [
    {
     "data": {
      "text/plain": [
       "([[-1, -1, -1, -1]], [])"
      ]
     },
     "execution_count": 2,
     "metadata": {},
     "output_type": "execute_result"
    }
   ],
   "source": [
    "processor.extract_values('')"
   ]
  },
  {
   "cell_type": "code",
   "execution_count": 15,
   "id": "b6243e51",
   "metadata": {},
   "outputs": [],
   "source": [
    "file_name = files[0].split('\\\\')[-1].split('.')[0][:-4]\n",
    "import os\n",
    "new_file_path = os.path.join('./text/', file_name + '_convert_rec.csv')"
   ]
  },
  {
   "cell_type": "code",
   "execution_count": 2,
   "id": "59f254aa",
   "metadata": {},
   "outputs": [],
   "source": [
    "processor.process(\"./data/raw/Task2/Task2_1_rec.csv\", \"./text/Task2_1_convert_rec.csv\")"
   ]
  },
  {
   "cell_type": "code",
   "execution_count": 2,
   "id": "57b276e9",
   "metadata": {},
   "outputs": [],
   "source": [
    "import pandas as pd\n",
    "df = pd.read_csv('./data/raw/Task2/Task2_1_rec.csv')"
   ]
  },
  {
   "cell_type": "code",
   "execution_count": 4,
   "id": "59b25657",
   "metadata": {},
   "outputs": [
    {
     "name": "stdout",
     "output_type": "stream",
     "text": [
      "[0.5, 0.5, 0.4375, 0.4375] [] 头长度适中，脖子长度适中，腿短，尾巴短。\n"
     ]
    }
   ],
   "source": [
    "import numpy as np\n",
    "for i in df['text']:\n",
    "    val, un_pro = processor.extract_values(i)\n",
    "\n",
    "    val  = np.array(val).mean(axis=0)\n",
    "    val = val.tolist()\n",
    "    print(val, un_pro, i)\n",
    "\n",
    "    break"
   ]
  }
 ],
 "metadata": {
  "kernelspec": {
   "display_name": "geno",
   "language": "python",
   "name": "python3"
  },
  "language_info": {
   "codemirror_mode": {
    "name": "ipython",
    "version": 3
   },
   "file_extension": ".py",
   "mimetype": "text/x-python",
   "name": "python",
   "nbconvert_exporter": "python",
   "pygments_lexer": "ipython3",
   "version": "3.8.19"
  }
 },
 "nbformat": 4,
 "nbformat_minor": 5
}
