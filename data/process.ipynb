{
 "cells": [
  {
   "cell_type": "code",
   "execution_count": null,
   "id": "fd3cda7c",
   "metadata": {},
   "outputs": [
    {
     "name": "stderr",
     "output_type": "stream",
     "text": [
      "/tmp/ipykernel_1894748/395377528.py:13: FutureWarning: The 'delim_whitespace' keyword in pd.read_csv is deprecated and will be removed in a future version. Use ``sep='\\s+'`` instead\n",
      "  data = pd.read_csv(processed_path / '8.dat', delim_whitespace=True)\n"
     ]
    }
   ],
   "source": [
    "import os\n",
    "import sys\n",
    "import importlib\n",
    "from pathlib import Path\n",
    "import pandas as pd\n",
    "\n",
    "# 设定项目根目录\n",
    "project_root = Path(os.getcwd()).parent\n",
    "sys.path.append(str(project_root))\n",
    "\n",
    "# 导入数据\n",
    "processed_path = Path(project_root) / 'data' \n",
    "data = pd.read_csv(processed_path / '8.dat', delim_whitespace=True)"
   ]
  },
  {
   "cell_type": "code",
   "execution_count": null,
   "id": "e7aadf84",
   "metadata": {},
   "outputs": [],
   "source": [
    "# 添加 iSession 列\n",
    "data['iSession'] = ((data['iTrial'] - 1) // 320) + 1"
   ]
  },
  {
   "cell_type": "code",
   "execution_count": 8,
   "id": "ea5cc602",
   "metadata": {},
   "outputs": [],
   "source": [
    "data['iBlock'] = ((data['iTrial'] - 1) % 320 // 64) + 1"
   ]
  },
  {
   "cell_type": "code",
   "execution_count": 9,
   "id": "746b5539",
   "metadata": {},
   "outputs": [],
   "source": [
    "data.rename(columns={'stiAmbigous': 'ambigous', 'stiCategory': 'category'}, inplace=True)"
   ]
  },
  {
   "cell_type": "code",
   "execution_count": 10,
   "id": "93649928",
   "metadata": {},
   "outputs": [],
   "source": [
    "data.rename(columns={'decision': 'choice', 'decRT': 'choRT'}, inplace=True)"
   ]
  },
  {
   "cell_type": "code",
   "execution_count": 11,
   "id": "a403731d",
   "metadata": {},
   "outputs": [],
   "source": [
    "# 根据 choice 列的值生成 presskey 列\n",
    "data['presskey'] = data['choice'].apply(lambda x: {2: 1, 3: 2, 1: 3, 4: 4}.get(x))"
   ]
  },
  {
   "cell_type": "code",
   "execution_count": 12,
   "id": "05dec41c",
   "metadata": {},
   "outputs": [],
   "source": [
    "# 自定义列的顺序\n",
    "column_order = [\"version\",\"condition\",\"structure1\",\"structure2\",\"iSession\",\n",
    "                \"iBlock\",\"iTrial\",\"stiID\",\"category\",\"ambigous\",\"choice\",\"presskey\",\"feedback\",\"choRT\",\"recDU\"]\n",
    "\n",
    "# 按照自定义顺序重新排列列\n",
    "data = data[column_order]"
   ]
  },
  {
   "cell_type": "code",
   "execution_count": 13,
   "id": "80423040",
   "metadata": {},
   "outputs": [],
   "source": [
    "output_path = processed_path / 'Task2_26_bhv.csv'\n",
    "data.to_csv(output_path, index=False)"
   ]
  },
  {
   "cell_type": "code",
   "execution_count": 14,
   "id": "71cf7ca7",
   "metadata": {},
   "outputs": [],
   "source": [
    "processed_path = Path(project_root) / 'data' \n",
    "data = pd.read_csv(processed_path / '8.csv')"
   ]
  },
  {
   "cell_type": "code",
   "execution_count": 15,
   "id": "ea36132e",
   "metadata": {},
   "outputs": [],
   "source": [
    "data.loc[:, data.columns.str.contains('_angle')] = 0.5"
   ]
  },
  {
   "cell_type": "code",
   "execution_count": null,
   "id": "8fb67237",
   "metadata": {},
   "outputs": [],
   "source": [
    "data.loc[:, data.columns.str.contains('_length')] -= 0.25"
   ]
  },
  {
   "cell_type": "code",
   "execution_count": 20,
   "id": "27b07123",
   "metadata": {},
   "outputs": [],
   "source": [
    "data['iSession'] = [1 if i < 320 else 2 for i in range(len(data))]"
   ]
  },
  {
   "cell_type": "code",
   "execution_count": 21,
   "id": "b6b9b89e",
   "metadata": {},
   "outputs": [],
   "source": [
    "data.drop(columns=['body_length'], inplace=True)"
   ]
  },
  {
   "cell_type": "code",
   "execution_count": 22,
   "id": "d3e07caf",
   "metadata": {},
   "outputs": [],
   "source": [
    "# 自定义列的顺序\n",
    "column_order = [\"iSession\",\"stiID\",\"body_ori\",\"neck_length\",\"head_length\",\"leg_length\",\"tail_length\",\n",
    "\"neck_angle\",\"head_angle\",\"leg_angle\",\"tail_angle\",\"category\",\"ambigous1\",\"ambigous2\"]\n",
    "\n",
    "# 按照自定义顺序重新排列列\n",
    "data = data[column_order]"
   ]
  },
  {
   "cell_type": "code",
   "execution_count": 23,
   "id": "eb0f6872",
   "metadata": {},
   "outputs": [],
   "source": [
    "output_path = processed_path / 'Task2_26_sti.csv'\n",
    "data.to_csv(output_path, index=False)"
   ]
  }
 ],
 "metadata": {
  "kernelspec": {
   "display_name": "bayes",
   "language": "python",
   "name": "python3"
  },
  "language_info": {
   "codemirror_mode": {
    "name": "ipython",
    "version": 3
   },
   "file_extension": ".py",
   "mimetype": "text/x-python",
   "name": "python",
   "nbconvert_exporter": "python",
   "pygments_lexer": "ipython3",
   "version": "3.10.16"
  }
 },
 "nbformat": 4,
 "nbformat_minor": 5
}
