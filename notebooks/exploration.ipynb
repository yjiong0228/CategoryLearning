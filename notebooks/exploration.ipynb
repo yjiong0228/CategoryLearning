{
 "cells": [
  {
   "cell_type": "markdown",
   "metadata": {},
   "source": [
    "## 1. Preprocess ##"
   ]
  },
  {
   "cell_type": "code",
   "execution_count": null,
   "metadata": {},
   "outputs": [],
   "source": [
    "import os\n",
    "import sys\n",
    "from pathlib import Path\n",
    "import pandas as pd\n",
    "import numpy as np\n",
    "import math\n",
    "# from tqdm.notebook import tqdm\n",
    "import seaborn as sns\n",
    "import matplotlib.pyplot as plt"
   ]
  },
  {
   "cell_type": "code",
   "execution_count": null,
   "metadata": {},
   "outputs": [],
   "source": [
    "# 获取项目根目录\n",
    "project_root = Path(os.getcwd()).parent\n",
    "sys.path.append(str(project_root))\n",
    "\n",
    "# 导入预处理器\n",
    "import importlib\n",
    "import src.preprocess as preprocess\n",
    "importlib.reload(preprocess)\n",
    "from src.preprocess import Preprocessor_A, Preprocessor_B\n",
    "\n",
    "# 初始化预处理器\n",
    "preprocessor_a = Preprocessor_A()\n",
    "preprocessor_b = Preprocessor_B()"
   ]
  },
  {
   "cell_type": "code",
   "execution_count": null,
   "metadata": {},
   "outputs": [],
   "source": [
    "from config import body_length, features_range, canvas_settings"
   ]
  },
  {
   "cell_type": "code",
   "execution_count": null,
   "metadata": {},
   "outputs": [],
   "source": [
    "# Task1a, Task1b, Task3c preprocess\n",
    "def preprocess_main_a(project_root, taskID, subIDs, features_range, canvas_settings, body_length, preprocessor):\n",
    "    input_path = Path(project_root) / 'data' / 'raw' / taskID\n",
    "    output_path = Path(project_root) / 'data' / 'processed' / taskID \n",
    "    os.makedirs(output_path, exist_ok=True)\n",
    "\n",
    "    for subID in subIDs:\n",
    "        if taskID == 'Task1a':\n",
    "            feature_init = pd.DataFrame({\n",
    "            'neck_length': [0.5], 'head_length': [0.5], 'leg_length': [0.5], 'tail_length': [0.5],\n",
    "            'neck_angle': [0.5], 'head_angle': [0.5], 'leg_angle': [0.5], 'tail_angle': [0.5]\n",
    "         })\n",
    "        elif taskID == 'Task1b':\n",
    "            stimulus_data = pd.read_csv(input_path / f'{taskID}_{subID}_sti.csv')\n",
    "            feature_init = stimulus_data[stimulus_data['type'] == 2]\n",
    "        else:\n",
    "            feature_init = pd.read_csv(input_path / f'{taskID}_{subID}_sti.csv')\n",
    "            \n",
    "        mouse_trajactory = pd.read_csv(input_path / f'{taskID}_{subID}_mouse.csv')\n",
    "        \n",
    "        feature_trajactory = preprocessor.process(taskID, feature_init, mouse_trajactory, features_range, canvas_settings, body_length)\n",
    "        feature_trajactory.to_csv(os.path.join(output_path, f'{taskID}_{subID}_feature.csv'), index=False)\n",
    "\n",
    "# Task2, Task3a, Task3b preprocess\n",
    "def preprocess_main_b(project_root, taskID, subIDs, preprocessor):\n",
    "    input_path = Path(project_root) / 'data' / 'raw' / taskID\n",
    "    output_path = Path(project_root) / 'data' / 'processed'\n",
    "    os.makedirs(output_path, exist_ok=True)\n",
    "\n",
    "    all_data = []\n",
    "    for subID in subIDs:\n",
    "        if taskID in ['Task2', 'Task3a']:\n",
    "            stimulus_data = pd.read_csv(input_path / f'{taskID}_{subID}_sti.csv')\n",
    "        elif taskID == 'Task3b':\n",
    "            left_stimulus_data = pd.read_csv(input_path / f'{taskID}_{subID}_left.csv')\n",
    "            right_stimulus_data = pd.read_csv(input_path / f'{taskID}_{subID}_right.csv')\n",
    "            stimulus_data = pd.merge(left_stimulus_data, right_stimulus_data, on=['pairID'])\n",
    "\n",
    "        behavior_data = pd.read_csv(input_path / f'{taskID}_{subID}_bhv.csv')\n",
    "\n",
    "        combined_data = preprocessor.process(taskID, stimulus_data, behavior_data)\n",
    "        combined_data.insert(0, 'iSub', subID)\n",
    "        all_data.append(combined_data)\n",
    "\n",
    "    processed_data = pd.concat(all_data, ignore_index=True)\n",
    "    processed_data.to_csv(os.path.join(output_path, f'{taskID}_processed.csv'), index=False)"
   ]
  },
  {
   "cell_type": "code",
   "execution_count": 136,
   "metadata": {},
   "outputs": [],
   "source": [
    "# Task1b, Task3c reconstruct\n",
    "def preprocess_construct(project_root, taskID, subIDs):\n",
    "    raw_path = Path(project_root) / 'data' / 'raw' / taskID\n",
    "    processed_path = Path(project_root) / 'data' / 'processed' / taskID\n",
    "    output_path = Path(project_root) / 'data' / 'processed'\n",
    "\n",
    "    all_data = []\n",
    "    for subID in subIDs:\n",
    "        if taskID == 'Task1b':\n",
    "            stimulus_data = pd.read_csv(raw_path / f'{taskID}_{subID}_sti.csv')\n",
    "            stimulus_data = stimulus_data.drop(columns=['version', 'display_height', 'PairID'])\n",
    "            stimulus_data['type'] = stimulus_data['type'].replace({1: 'target', 2: 'adjust_init'})\n",
    "\n",
    "        elif taskID == 'Task3c':\n",
    "            stimulus_data = pd.read_csv(raw_path / f'{taskID}_{subID}_sti.csv')\n",
    "            stimulus_data.insert(0, 'type', 'adjust_init')\n",
    "\n",
    "        feature_trajactory = pd.read_csv(processed_path / f'{taskID}_{subID}_feature.csv')\n",
    "        adjust_after = feature_trajactory.groupby('iTrial').last().reset_index()\n",
    "\n",
    "        new_rows = stimulus_data[stimulus_data['type'] == 'adjust_init'][['iTrial', 'body_ori']].copy()\n",
    "        new_rows.insert(0, 'type', 'adjust_after')\n",
    "\n",
    "        feature_columns = ['neck_length', 'head_length', 'leg_length', 'tail_length', \n",
    "                        'neck_angle', 'head_angle', 'leg_angle', 'tail_angle']\n",
    "        new_rows = new_rows.merge(adjust_after[['iTrial'] + feature_columns], on='iTrial', how='left')\n",
    "\n",
    "        combined_data = pd.concat([stimulus_data, new_rows], ignore_index=True)\n",
    "        combined_data.insert(0, 'iSub', subID)\n",
    "        all_data.append(combined_data)\n",
    "\n",
    "    processed_data = pd.concat(all_data, ignore_index=True)\n",
    "    processed_data.to_csv(os.path.join(output_path, f'{taskID}_processed.csv'), index=False)\n"
   ]
  },
  {
   "cell_type": "code",
   "execution_count": 139,
   "metadata": {},
   "outputs": [],
   "source": [
    "subIDs = [1,2,3,7,8,9,13,14,15,19,20,21]\n",
    "# preprocess_main_a(project_root, 'Task1a', subIDs, features_range, canvas_settings, body_length, preprocessor_a)\n",
    "preprocess_main_a(project_root, 'Task1b', subIDs, features_range, canvas_settings, body_length, preprocessor_a)\n",
    "preprocess_main_a(project_root, 'Task3c', subIDs, features_range, canvas_settings, body_length, preprocessor_a)\n",
    "\n",
    "preprocess_construct(project_root, 'Task1b', subIDs)\n",
    "preprocess_construct(project_root, 'Task3c', subIDs)\n",
    "\n",
    "# preprocess_main_b(project_root, 'Task2', subIDs, preprocessor_b)\n",
    "# preprocess_main_b(project_root, 'Task3a', subIDs, preprocessor_b)"
   ]
  },
  {
   "cell_type": "markdown",
   "metadata": {},
   "source": [
    "## 2. Perceptive Error Analysis"
   ]
  },
  {
   "cell_type": "code",
   "execution_count": 141,
   "metadata": {},
   "outputs": [],
   "source": [
    "# 获取项目根目录\n",
    "project_root = Path(os.getcwd()).parent\n",
    "sys.path.append(str(project_root))\n",
    "\n",
    "# 导入处理器\n",
    "import importlib\n",
    "import src.error_evaluation as error_evaluation\n",
    "importlib.reload(error_evaluation)\n",
    "from src.error_evaluation import Processor\n",
    "\n",
    "# 初始化预处理器\n",
    "processor = Processor()"
   ]
  },
  {
   "cell_type": "code",
   "execution_count": null,
   "metadata": {},
   "outputs": [],
   "source": [
    "def error_calculation(processed_data):\n",
    "    \n",
    "    columns = ['neck_length', 'head_length', 'leg_length', 'tail_length', \n",
    "               'neck_angle', 'head_angle', 'leg_angle', 'tail_angle']\n",
    "    \n",
    "    results = []\n",
    "    for iSub, group in processed_data.groupby('iSub'):\n",
    "        target = group[group['type'] == 'target'].reset_index(drop=True)\n",
    "        adjust_after = group[group['type'] == 'adjust_after'].reset_index(drop=True)\n",
    "\n",
    "        result = target[['iSub','iTrial'] + columns].reset_index(drop=True).copy()\n",
    "        for col in columns:\n",
    "            result[f'{col}_diff'] = adjust_after[col] - target[col]\n",
    "        results.append(result)\n",
    "        \n",
    "    final_results = pd.concat(results, ignore_index=True)\n",
    "\n",
    "    return final_results"
   ]
  },
  {
   "cell_type": "code",
   "execution_count": 142,
   "metadata": {},
   "outputs": [],
   "source": [
    "def error_summary(error):\n",
    "    parts = ['neck', 'head', 'leg', 'tail']\n",
    "    \n",
    "    # 创建基础数据框架\n",
    "    lengths = error['neck_length'].unique()\n",
    "    subs = error['iSub'].unique()\n",
    "    base_df = pd.DataFrame([(sub, length) for sub in subs for length in lengths],\n",
    "                        columns=['iSub', 'length'])\n",
    "    \n",
    "    # 为每个部位计算统计量\n",
    "    stats = []\n",
    "    for part in parts:\n",
    "        # 分组计算均值和标准差\n",
    "        grouped = error.groupby(['iSub', f'{part}_length'])[f'{part}_length_diff'].agg(['mean', 'std']).reset_index()\n",
    "        \n",
    "        # 重命名列\n",
    "        grouped.columns = ['iSub', f'{part}_length', \n",
    "                        f'{part}_length_error_mean', f'{part}_length_error_sd']\n",
    "        stats.append(grouped)\n",
    "    \n",
    "    # 合并所有统计结果\n",
    "    result = base_df.copy()\n",
    "    for part in parts:\n",
    "        result[f'{part}_length'] = result['length']\n",
    "    result = result.drop('length', axis=1)\n",
    "    \n",
    "    # 合并统计数据\n",
    "    for stat_df in stats:\n",
    "        merge_cols = ['iSub', f'{stat_df.columns[1].split(\"_\")[0]}_length']\n",
    "        result = result.merge(stat_df, on=merge_cols, how='left')\n",
    "    \n",
    "    # 排序并返回结果\n",
    "    return result.sort_values(['iSub', 'neck_length'])"
   ]
  },
  {
   "cell_type": "code",
   "execution_count": 144,
   "metadata": {},
   "outputs": [],
   "source": [
    "\n",
    "processed_path = Path(project_root) / 'data' / 'processed'\n",
    "processed_data = pd.read_csv(processed_path / f'Task1b_processed.csv')\n",
    "\n",
    "error = error_calculation(processed_data)\n",
    "summary = error_summary(error)"
   ]
  },
  {
   "cell_type": "code",
   "execution_count": null,
   "metadata": {},
   "outputs": [],
   "source": [
    "def evaluate_main(project_root, processor):\n",
    "    processed_path = Path(project_root) / 'data' / 'processed'\n",
    "    processed_data = pd.read_csv(processed_path / f'Task1b_processed.csv')\n",
    "\n",
    "    error = processor.error_calculation(processed_data)\n",
    "\n",
    "    summary = processor.error_summary(error)\n",
    "\n",
    "    "
   ]
  },
  {
   "cell_type": "code",
   "execution_count": null,
   "metadata": {},
   "outputs": [],
   "source": []
  }
 ],
 "metadata": {
  "kernelspec": {
   "display_name": "bayes",
   "language": "python",
   "name": "python3"
  },
  "language_info": {
   "codemirror_mode": {
    "name": "ipython",
    "version": 3
   },
   "file_extension": ".py",
   "mimetype": "text/x-python",
   "name": "python",
   "nbconvert_exporter": "python",
   "pygments_lexer": "ipython3",
   "version": "3.8.19"
  }
 },
 "nbformat": 4,
 "nbformat_minor": 2
}
