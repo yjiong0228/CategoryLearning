{
 "cells": [
  {
   "cell_type": "code",
   "execution_count": 2,
   "metadata": {},
   "outputs": [],
   "source": [
    "import os\n",
    "import sys\n",
    "from pathlib import Path\n",
    "import pandas as pd\n",
    "import joblib"
   ]
  },
  {
   "cell_type": "markdown",
   "metadata": {},
   "source": [
    "## 1. Preprocess ##"
   ]
  },
  {
   "cell_type": "code",
   "execution_count": 22,
   "metadata": {},
   "outputs": [],
   "source": [
    "# 获取项目根目录\n",
    "project_root = Path(os.getcwd()).parent\n",
    "sys.path.append(str(project_root))\n",
    "\n",
    "# 导入预处理器\n",
    "import importlib\n",
    "import src.preprocess_a as preprocess_a\n",
    "importlib.reload(preprocess_a)\n",
    "from src.preprocess_a import Preprocessor_A\n",
    "\n",
    "import src.preprocess_b as preprocess_b\n",
    "importlib.reload(preprocess_b)\n",
    "from src.preprocess_b import Preprocessor_B\n",
    "\n",
    "# 初始化预处理器\n",
    "preprocessor_a = Preprocessor_A()\n",
    "preprocessor_b = Preprocessor_B()\n",
    "\n",
    "# 导入配置数据\n",
    "from config import body_length, features_range, canvas_settings"
   ]
  },
  {
   "cell_type": "code",
   "execution_count": 12,
   "metadata": {},
   "outputs": [],
   "source": [
    "# Task1a, Task1b, Task3c preprocess\n",
    "def preprocess_main_a(project_root, taskID, subIDs, features_range, canvas_settings, body_length, preprocessor):\n",
    "    input_dir = Path(project_root) / 'data' / 'raw' / taskID\n",
    "    output_dir = Path(project_root) / 'data' / 'processed' / taskID \n",
    "    os.makedirs(output_dir, exist_ok=True)\n",
    "\n",
    "    for subID in subIDs:\n",
    "        if taskID == 'Task1a':\n",
    "            feature_init = pd.DataFrame({\n",
    "            'neck_length': [0.5], 'head_length': [0.5], 'leg_length': [0.5], 'tail_length': [0.5],\n",
    "            'neck_angle': [0.5], 'head_angle': [0.5], 'leg_angle': [0.5], 'tail_angle': [0.5]\n",
    "         })\n",
    "        elif taskID == 'Task1b':\n",
    "            stimulus_data = pd.read_csv(input_dir / f'{taskID}_{subID}_sti.csv')\n",
    "            feature_init = stimulus_data[stimulus_data['type'] == 2]\n",
    "        else:\n",
    "            feature_init = pd.read_csv(input_dir / f'{taskID}_{subID}_sti.csv')\n",
    "            \n",
    "        mouse_trajactory = pd.read_csv(input_dir / f'{taskID}_{subID}_mouse.csv')\n",
    "        \n",
    "        feature_trajactory = preprocessor.process(taskID, feature_init, mouse_trajactory, features_range, canvas_settings, body_length)\n",
    "        feature_trajactory.to_csv(os.path.join(output_dir, f'{taskID}_{subID}_feature.csv'), index=False)\n",
    "\n",
    "# Task2, Task3a, Task3b preprocess\n",
    "def preprocess_main_b(project_root, taskID, subIDs, preprocessor):\n",
    "    input_dir = Path(project_root) / 'data' / 'raw' / taskID\n",
    "    output_dir = Path(project_root) / 'data' / 'processed'\n",
    "    os.makedirs(output_dir, exist_ok=True)\n",
    "\n",
    "    all_data = []\n",
    "    for subID in subIDs:\n",
    "        if taskID in ['Task2']:\n",
    "            stimulus_data = pd.read_csv(input_dir / f'{taskID}_{subID}_sti.csv')\n",
    "            recording_data = pd.read_csv(input_dir / f'{taskID}_{subID}_rec.csv')\n",
    "        elif taskID == 'Task3a':\n",
    "            stimulus_data = pd.read_csv(input_dir / f'{taskID}_{subID}_sti.csv')\n",
    "        elif taskID == 'Task3b':\n",
    "            left_stimulus_data = pd.read_csv(input_dir / f'{taskID}_{subID}_left.csv')\n",
    "            right_stimulus_data = pd.read_csv(input_dir / f'{taskID}_{subID}_right.csv')\n",
    "            stimulus_data = pd.merge(left_stimulus_data, right_stimulus_data, on=['pairID'])\n",
    "\n",
    "        behavior_data = pd.read_csv(input_dir / f'{taskID}_{subID}_bhv.csv')\n",
    "\n",
    "        if taskID in ['Task2']:\n",
    "            combined_data = preprocessor.process(taskID, stimulus_data, behavior_data, recording_data)\n",
    "        else:\n",
    "            combined_data = preprocessor.process(taskID, stimulus_data, behavior_data)\n",
    "\n",
    "        combined_data.insert(0, 'iSub', subID)\n",
    "        all_data.append(combined_data)\n",
    "\n",
    "    processed_data = pd.concat(all_data, ignore_index=True)\n",
    "    processed_data.to_csv(os.path.join(output_dir, f'{taskID}_processed.csv'), index=False)"
   ]
  },
  {
   "cell_type": "code",
   "execution_count": 16,
   "metadata": {},
   "outputs": [],
   "source": [
    "# Task1b, Task3c reconstruct\n",
    "def preprocess_construct(project_root, taskID, subIDs):\n",
    "    raw_dir = Path(project_root) / 'data' / 'raw' / taskID\n",
    "    processed_dir = Path(project_root) / 'data' / 'processed' / taskID\n",
    "    output_dir = Path(project_root) / 'data' / 'processed'\n",
    "\n",
    "    all_data = []\n",
    "    for subID in subIDs:\n",
    "        if taskID == 'Task1b':\n",
    "            stimulus_data = pd.read_csv(raw_dir / f'{taskID}_{subID}_sti.csv')\n",
    "            stimulus_data = stimulus_data.drop(columns=['version', 'display_height', 'PairID'])\n",
    "            stimulus_data['type'] = stimulus_data['type'].replace({1: 'target', 2: 'adjust_init'})\n",
    "\n",
    "        elif taskID == 'Task3c':\n",
    "            stimulus_data = pd.read_csv(raw_dir / f'{taskID}_{subID}_sti.csv')\n",
    "            stimulus_data.insert(0, 'type', 'adjust_init')\n",
    "\n",
    "        feature_trajactory = pd.read_csv(processed_dir / f'{taskID}_{subID}_feature.csv')\n",
    "        adjust_after = feature_trajactory.groupby('iTrial').last().reset_index()\n",
    "\n",
    "        new_rows = stimulus_data[stimulus_data['type'] == 'adjust_init'][['iTrial', 'body_ori']].copy()\n",
    "        new_rows.insert(0, 'type', 'adjust_after')\n",
    "\n",
    "        feature_columns = ['neck_length', 'head_length', 'leg_length', 'tail_length', \n",
    "                        'neck_angle', 'head_angle', 'leg_angle', 'tail_angle']\n",
    "        new_rows = new_rows.merge(adjust_after[['iTrial'] + feature_columns], on='iTrial', how='left')\n",
    "\n",
    "        combined_data = pd.concat([stimulus_data, new_rows], ignore_index=True)\n",
    "        combined_data.insert(0, 'iSub', subID)\n",
    "        all_data.append(combined_data)\n",
    "\n",
    "    processed_data = pd.concat(all_data, ignore_index=True)\n",
    "    processed_data.to_csv(os.path.join(output_dir, f'{taskID}_processed.csv'), index=False)"
   ]
  },
  {
   "cell_type": "code",
   "execution_count": 23,
   "metadata": {},
   "outputs": [],
   "source": [
    "subIDs = [1,2,3,4,5,6,7,8,9,10,11,12,13,14,15,16,17,18,19,20,21,22,23,24]\n",
    "# preprocess_main_a(project_root, 'Task1a', subIDs, features_range, canvas_settings, body_length, preprocessor_a)\n",
    "# preprocess_main_a(project_root, 'Task1b', subIDs, features_range, canvas_settings, body_length, preprocessor_a)\n",
    "# preprocess_main_a(project_root, 'Task3c', subIDs, features_range, canvas_settings, body_length, preprocessor_a)\n",
    "\n",
    "# preprocess_construct(project_root, 'Task1b', subIDs)\n",
    "# preprocess_construct(project_root, 'Task3c', subIDs)\n",
    "\n",
    "preprocess_main_b(project_root, 'Task2', subIDs, preprocessor_b)\n",
    "# preprocess_main_b(project_root, 'Task3a', subIDs, preprocessor_b)"
   ]
  },
  {
   "cell_type": "markdown",
   "metadata": {},
   "source": [
    "## 2. Accuracy Analysis"
   ]
  },
  {
   "cell_type": "code",
   "execution_count": null,
   "metadata": {},
   "outputs": [],
   "source": []
  },
  {
   "cell_type": "markdown",
   "metadata": {},
   "source": [
    "## 3. Perceptive Error Analysis"
   ]
  },
  {
   "cell_type": "code",
   "execution_count": 58,
   "metadata": {},
   "outputs": [],
   "source": [
    "# 获取项目根目录\n",
    "project_root = Path(os.getcwd()).parent\n",
    "sys.path.append(str(project_root))\n",
    "\n",
    "# 导入处理器\n",
    "import importlib\n",
    "import src.error_evaluation as error_evaluation\n",
    "importlib.reload(error_evaluation)\n",
    "from src.error_evaluation import Processor\n",
    "\n",
    "# 初始化知觉误差处理器\n",
    "error_processor = Processor()"
   ]
  },
  {
   "cell_type": "code",
   "execution_count": null,
   "metadata": {},
   "outputs": [],
   "source": [
    "# 计算知觉误差\n",
    "processed_dir = Path(project_root) / 'data' / 'processed'\n",
    "processed_data = pd.read_csv(processed_dir / f'Task1b_processed.csv')\n",
    "\n",
    "error = error_processor.error_calculation(processed_data)\n",
    "summary = error_processor.error_summary(error)\n",
    "\n",
    "# 连续插值\n",
    "continuous_predictions = error_processor.analyze_length_error_relationship(error)"
   ]
  },
  {
   "cell_type": "code",
   "execution_count": null,
   "metadata": {},
   "outputs": [],
   "source": [
    "result_path = Path(project_root) / 'results' / 'Raw'\n",
    "os.makedirs(result_path, exist_ok=True)\n",
    "\n",
    "# 绘制误差图\n",
    "error_processor.plot_error(error, \"length\", result_path)\n",
    "error_processor.plot_error(error, \"angle\", result_path)\n",
    "\n",
    "# 分特征绘制误差图\n",
    "error_processor.plot_error_by_feature(error, result_path)\n",
    "\n",
    "# 绘制误差连续插值图\n",
    "error_processor.plot_error_interpolate(error, continuous_predictions, result_path)"
   ]
  },
  {
   "cell_type": "code",
   "execution_count": 59,
   "metadata": {},
   "outputs": [],
   "source": [
    "# 得到Task2所有刺激的知觉误差预测值\n",
    "subIDs = [1,2,3,4,5,6,7,8,9,10,11,12,13,14,15,16,17,18,19,20,21,22,23,24]\n",
    "raw_dir = Path(project_root) / 'data' / 'raw' / 'Task2'\n",
    "processed_dir = Path(project_root) / 'data' / 'processed' / 'Task2'\n",
    "for subID in subIDs:\n",
    "    stimulus_data = pd.read_csv(raw_dir / f'Task2_{subID}_sti.csv')\n",
    "\n",
    "    stimulus_data_perc = error_processor.process(stimulus_data, continuous_predictions)\n",
    "    stimulus_data_perc.to_csv(os.path.join(processed_dir, f'Task2_{subID}_sti_perc.csv'), index=False)"
   ]
  },
  {
   "cell_type": "code",
   "execution_count": 60,
   "metadata": {},
   "outputs": [],
   "source": [
    "all_data = []\n",
    "output_dir = Path(project_root) / 'data' / 'processed'\n",
    "for subID in subIDs:\n",
    "    stimulus_data = pd.read_csv(processed_dir / f'Task2_{subID}_sti_perc.csv')\n",
    "    behavior_data = pd.read_csv(raw_dir / f'Task2_{subID}_bhv.csv')\n",
    "\n",
    "    combined_data = preprocessor_b.process('Task2', stimulus_data, behavior_data)\n",
    "    combined_data.insert(0, 'iSub', subID)\n",
    "    all_data.append(combined_data)\n",
    "\n",
    "processed_data = pd.concat(all_data, ignore_index=True)\n",
    "processed_data.to_csv(os.path.join(output_dir, f'Task2_processed_perceived.csv'), index=False)"
   ]
  },
  {
   "cell_type": "markdown",
   "metadata": {},
   "source": [
    "## 3. Recording Analysis"
   ]
  },
  {
   "cell_type": "code",
   "execution_count": 12,
   "metadata": {},
   "outputs": [],
   "source": [
    "# 获取项目根目录\n",
    "project_root = Path(os.getcwd()).parent\n",
    "sys.path.append(str(project_root))\n",
    "\n",
    "# 导入处理器\n",
    "import importlib\n",
    "import src.audio_coding as audio_coding\n",
    "importlib.reload(audio_coding)\n",
    "from src.audio_coding import Processor\n",
    "\n",
    "# 初始化语音处理器\n",
    "audio_processor = Processor()"
   ]
  },
  {
   "cell_type": "code",
   "execution_count": 15,
   "metadata": {},
   "outputs": [],
   "source": [
    "def preprocess_recording(project_root, subIDs, audio_processor):\n",
    "    input_dir = Path(project_root) / 'data' / 'raw' / 'Task2'\n",
    "    output_dir = Path(project_root) / 'data' / 'processed'\n",
    "    os.makedirs(output_dir, exist_ok=True)\n",
    "\n",
    "    all_data = []\n",
    "    for subID in subIDs:\n",
    "        recording_raw = pd.read_csv(input_dir / f'Task2_{subID}_rec.csv')\n",
    "        behavior_data = pd.read_csv(input_dir / f'Task2_{subID}_bhv.csv')\n",
    "\n",
    "        structure1 = behavior_data['structure1'][0]\n",
    "        structure2 = behavior_data['structure2'][0]\n",
    "\n",
    "        recording_coded = audio_processor.process(recording_raw, [structure1, structure2])\n",
    "        all_data.append(recording_coded)\n",
    "\n",
    "    processed_data = pd.concat(all_data, ignore_index=True)\n",
    "    processed_data.to_csv(os.path.join(output_dir, f'Task2_recording_processed.csv'), index=False)"
   ]
  },
  {
   "cell_type": "code",
   "execution_count": 16,
   "metadata": {},
   "outputs": [],
   "source": [
    "subIDs = [1,2,3,4,5,6,7,8,9,10,11,12,13,14,15,16,17,18,19,20,21,22,23,24]\n",
    "preprocess_recording(project_root, subIDs, audio_processor)"
   ]
  },
  {
   "cell_type": "markdown",
   "metadata": {},
   "source": [
    "## 4. Animation"
   ]
  },
  {
   "cell_type": "code",
   "execution_count": 217,
   "metadata": {},
   "outputs": [],
   "source": [
    "# 获取项目根目录\n",
    "project_root = Path(os.getcwd()).parent\n",
    "sys.path.append(str(project_root))\n",
    "\n",
    "# 导入处理器\n",
    "import importlib\n",
    "import src.animation as animation\n",
    "importlib.reload(animation)\n",
    "from src.animation import Processor\n",
    "\n",
    "# 初始化语音处理器\n",
    "animation_compare = Processor()"
   ]
  },
  {
   "cell_type": "code",
   "execution_count": 172,
   "metadata": {},
   "outputs": [],
   "source": [
    "# 导入一个被试的模型数据\n",
    "result_path = Path(project_root) / 'results' / 'Bayesian'\n",
    "fitting_results = joblib.load(result_path / 'M_Base_fitting_results.joblib')\n",
    "fit_result = fitting_results[9]\n",
    "step_results = fit_result['step_results']\n",
    "\n",
    "import src.Bayesian.utils.partition as partition\n",
    "importlib.reload(partition)\n",
    "from src.Bayesian.utils.partition import Partition\n",
    "\n",
    "partition = Partition()\n",
    "all_centers = partition.get_centers(4, 4)\n",
    "\n",
    "input_modelfitting = [[step['k'], all_centers[step['k'] - 1][1]] for step in step_results]"
   ]
  },
  {
   "cell_type": "code",
   "execution_count": null,
   "metadata": {},
   "outputs": [],
   "source": [
    "# 导入该被试的口头报告数据\n",
    "raw_dir = Path(project_root) / 'data' / 'raw' / 'Task2' \n",
    "processed_dir = Path(project_root) / 'data' / 'processed' / 'Task2' \n",
    "input_bhv_csv = os.path.join(raw_dir, 'Task2_9_bhv.csv')\n",
    "input_rec_csv = os.path.join(processed_dir, 'Task2_9_rec.csv')\n",
    "output_csv = os.path.join(processed_dir, 'Task2_9_processed.csv')\n",
    "plots_dir = Path(project_root) / 'results' / 'Plots'"
   ]
  },
  {
   "cell_type": "code",
   "execution_count": 230,
   "metadata": {},
   "outputs": [
    {
     "name": "stdout",
     "output_type": "stream",
     "text": [
      "Choice 1 在第 0 行之前没有数据，跳过生成图像。\n",
      "Choice 2 在第 0 行之前没有数据，跳过生成图像。\n",
      "Choice 3 在第 0 行之前没有数据，跳过生成图像。\n",
      "Choice 1 在第 1 行之前没有数据，跳过生成图像。\n",
      "Choice 2 在第 1 行之前没有数据，跳过生成图像。\n",
      "Choice 1 在第 2 行之前没有数据，跳过生成图像。\n",
      "Choice 1 在第 3 行之前没有数据，跳过生成图像。\n",
      "处理完成，图表已分别保存到 '/home/yangjiong/CategoryLearning/results/Plots/choice1', '/home/yangjiong/CategoryLearning/results/Plots/choice2', '/home/yangjiong/CategoryLearning/results/Plots/choice3', 和 '/home/yangjiong/CategoryLearning/results/Plots/choice4' 文件夹中。\n"
     ]
    }
   ],
   "source": [
    "# 绘制单帧图片\n",
    "animation_compare.process_and_plot(input_rec_csv, input_bhv_csv, input_modelfitting, output_csv, plots_dir, plot_side='both')"
   ]
  },
  {
   "cell_type": "code",
   "execution_count": 231,
   "metadata": {},
   "outputs": [
    {
     "name": "stderr",
     "output_type": "stream",
     "text": [
      "/tmp/ipykernel_3643890/3522792649.py:58: DeprecationWarning: Starting with ImageIO v3 the behavior of this function will switch to that of iio.v3.imread. To keep the current behavior (and make this warning disappear) use `import imageio.v2 as imageio` or call `imageio.v2.imread` directly.\n",
      "  images.append(imageio.imread(filepath))\n"
     ]
    },
    {
     "name": "stdout",
     "output_type": "stream",
     "text": [
      "GIF已成功创建并保存为 '/home/yangjiong/CategoryLearning/results/Plots/choice1_animation.gif'。\n",
      "GIF已成功创建并保存为 '/home/yangjiong/CategoryLearning/results/Plots/choice2_animation.gif'。\n",
      "GIF已成功创建并保存为 '/home/yangjiong/CategoryLearning/results/Plots/choice3_animation.gif'。\n",
      "GIF已成功创建并保存为 '/home/yangjiong/CategoryLearning/results/Plots/choice4_animation.gif'。\n"
     ]
    }
   ],
   "source": [
    "# 得到GIF动图\n",
    "plots_parent_dir = Path(project_root) / 'results' / 'Plots' \n",
    "\n",
    "# 定义子文件夹及对应的文件名模式\n",
    "choices = {\n",
    "    'choice1': r'^\\d+_(\\d+)_(\\d+)_c1\\.png$',\n",
    "    'choice2': r'^\\d+_(\\d+)_(\\d+)_c2\\.png$',\n",
    "    'choice3': r'^\\d+_(\\d+)_(\\d+)_c3\\.png$',\n",
    "    'choice4': r'^\\d+_(\\d+)_(\\d+)_c4\\.png$',\n",
    "}\n",
    "\n",
    "# 遍历每个子文件夹并生成GIF\n",
    "for choice, pattern in choices.items():\n",
    "    sub_dir = plots_parent_dir / choice\n",
    "    if not sub_dir.exists() or not sub_dir.is_dir():\n",
    "        print(f\"子文件夹 '{sub_dir}' 不存在或不是一个文件夹，已跳过。\")\n",
    "        continue\n",
    "\n",
    "    # 定义输出GIF的路径，保存到Plots父文件夹下\n",
    "    output_gif = plots_parent_dir / f'{choice}_animation.gif'\n",
    "\n",
    "    # 创建GIF\n",
    "    animation_compare.create_sorted_gif(sub_dir, output_gif, pattern, duration=0.5)"
   ]
  }
 ],
 "metadata": {
  "kernelspec": {
   "display_name": "bayes",
   "language": "python",
   "name": "python3"
  },
  "language_info": {
   "codemirror_mode": {
    "name": "ipython",
    "version": 3
   },
   "file_extension": ".py",
   "mimetype": "text/x-python",
   "name": "python",
   "nbconvert_exporter": "python",
   "pygments_lexer": "ipython3",
   "version": "3.10.16"
  }
 },
 "nbformat": 4,
 "nbformat_minor": 2
}
