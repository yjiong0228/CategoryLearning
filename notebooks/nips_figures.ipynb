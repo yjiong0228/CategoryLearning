{
 "cells": [
  {
   "cell_type": "code",
   "execution_count": 2,
   "id": "897e9e78",
   "metadata": {},
   "outputs": [],
   "source": [
    "%load_ext autoreload\n",
    "%autoreload 2\n",
    "import os\n",
    "import sys\n",
    "import importlib\n",
    "from pathlib import Path\n",
    "import pandas as pd\n",
    "import joblib\n",
    "import matplotlib.pyplot as plt\n",
    "\n",
    "from itertools import product\n",
    "from collections import defaultdict"
   ]
  },
  {
   "cell_type": "code",
   "execution_count": 3,
   "id": "fa650a8c",
   "metadata": {},
   "outputs": [],
   "source": [
    "# 获取项目根目录\n",
    "project_root = Path(os.getcwd()).parent\n",
    "sys.path.append(str(project_root))\n",
    "\n",
    "# 导入数据\n",
    "processed_path = Path(project_root) / 'data' / 'processed'\n",
    "learning_data = pd.read_csv(processed_path / 'Task2_processed.csv')"
   ]
  },
  {
   "cell_type": "markdown",
   "id": "b3600476",
   "metadata": {},
   "source": [
    "#### Fig1B"
   ]
  },
  {
   "cell_type": "code",
   "execution_count": null,
   "id": "3898d37f",
   "metadata": {},
   "outputs": [],
   "source": [
    "import src.nips_plot as nips_plot\n",
    "importlib.reload(nips_plot)\n",
    "from src.nips_plot import Fig1B\n",
    "\n",
    "# 初始化处理器\n",
    "plot_fig1b = Fig1B()"
   ]
  },
  {
   "cell_type": "code",
   "execution_count": null,
   "id": "ac29cdf2",
   "metadata": {},
   "outputs": [],
   "source": [
    "# 导入被试数据\n",
    "iSub = 7\n",
    "subject_data = learning_data[learning_data['iSub'] == iSub]\n",
    "subject_data = subject_data.reset_index(drop=True)\n",
    "ncats=2"
   ]
  },
  {
   "cell_type": "code",
   "execution_count": null,
   "id": "7bc0462e",
   "metadata": {},
   "outputs": [
    {
     "name": "stdout",
     "output_type": "stream",
     "text": [
      "完成：仅绘制行 [190]，图表已保存至 /home/yangjiong/CategoryLearning/results/Nips_figures/Sub7/choice*/ 文件夹。\n"
     ]
    }
   ],
   "source": [
    "# 绘制单帧图片\n",
    "plots_dir = Path(project_root) / 'results' / 'Nips_figures' / f'Sub{iSub}'\n",
    "\n",
    "plot_fig1b.process_and_plot(ncats, subject_data, plots_dir, 190)"
   ]
  },
  {
   "cell_type": "markdown",
   "id": "1d7cc2f3",
   "metadata": {},
   "source": [
    "#### Fig1C"
   ]
  },
  {
   "cell_type": "code",
   "execution_count": null,
   "id": "d7915b34",
   "metadata": {},
   "outputs": [],
   "source": [
    "# 生成每个被试内部的试次编号\n",
    "learning_data['trial_in_sub'] = learning_data.groupby('iSub').cumcount() + 1\n",
    "\n",
    "# 计算滑动窗口正确率\n",
    "learning_data['rolling_accuracy'] = learning_data.groupby('iSub')[\n",
    "    'feedback'].transform(lambda x: x.rolling(16, min_periods=16).mean())\n",
    "\n",
    "# 四列相加，生成 feature_use\n",
    "feature_cols = ['feature1_use', 'feature2_use', 'feature3_use', 'feature4_use']\n",
    "\n",
    "# learning_data['feature_use'] = learning_data[feature_cols].sum(axis=1)\n",
    "# learning_data['rolling_feature_use'] = (\n",
    "#     learning_data.groupby('iSub')['feature_use'].transform(\n",
    "#         lambda x: x.rolling(16, min_periods=16).mean()))\n",
    "\n",
    "# 对 'feature1_use', 'feature2_use', 'feature3_use', 'feature4_use' 分别求滑动窗口平均\n",
    "for feature in ['feature1_use', 'feature2_use', 'feature3_use', 'feature4_use']:\n",
    "    learning_data[f'rolling_{feature}'] = learning_data.groupby('iSub')[feature].transform(\n",
    "        lambda x: x.rolling(16, min_periods=16).mean())"
   ]
  },
  {
   "cell_type": "code",
   "execution_count": 390,
   "id": "1efe2d5d",
   "metadata": {},
   "outputs": [],
   "source": [
    "import src.nips_plot as nips_plot\n",
    "importlib.reload(nips_plot)\n",
    "from src.nips_plot import Fig1C\n",
    "\n",
    "# 初始化处理器\n",
    "plot_fig1c = Fig1C()"
   ]
  },
  {
   "cell_type": "code",
   "execution_count": 391,
   "id": "fb12c3ce",
   "metadata": {},
   "outputs": [
    {
     "name": "stdout",
     "output_type": "stream",
     "text": [
      "Figure saved to /home/yangjiong/CategoryLearning/results/Nips_figures/Fig1C_accuracy.png\n"
     ]
    }
   ],
   "source": [
    "plots_dir = Path(project_root) / 'results' / 'Nips_figures'\n",
    "plot_fig1c.plot_accuracy(learning_data,\n",
    "                    subject_ids=[7, 5, 3],\n",
    "                    widths=(0.7,1.5,1.3),\n",
    "                    figsize=(22,4),\n",
    "                    color_acc='#DDAA33',\n",
    "                    save_path=plots_dir / 'Fig1C_accuracy.png')"
   ]
  },
  {
   "cell_type": "code",
   "execution_count": 392,
   "id": "f3b7e180",
   "metadata": {},
   "outputs": [
    {
     "name": "stdout",
     "output_type": "stream",
     "text": [
      "Figure saved to /home/yangjiong/CategoryLearning/results/Nips_figures/Fig1C_feature.png\n"
     ]
    }
   ],
   "source": [
    "plot_fig1c.plot_feature(\n",
    "    learning_data,\n",
    "    subject_ids=[7,5,3],\n",
    "    widths=(0.7,1.5,1.3),\n",
    "    figsize=(22,4),\n",
    "    save_path=plots_dir / 'Fig1C_feature.png')"
   ]
  }
 ],
 "metadata": {
  "kernelspec": {
   "display_name": "bayes",
   "language": "python",
   "name": "python3"
  },
  "language_info": {
   "codemirror_mode": {
    "name": "ipython",
    "version": 3
   },
   "file_extension": ".py",
   "mimetype": "text/x-python",
   "name": "python",
   "nbconvert_exporter": "python",
   "pygments_lexer": "ipython3",
   "version": "3.10.16"
  }
 },
 "nbformat": 4,
 "nbformat_minor": 5
}
