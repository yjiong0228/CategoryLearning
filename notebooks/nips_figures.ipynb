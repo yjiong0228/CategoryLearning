{
 "cells": [
  {
   "cell_type": "code",
   "execution_count": 1,
   "id": "897e9e78",
   "metadata": {},
   "outputs": [],
   "source": [
    "%load_ext autoreload\n",
    "%autoreload 2\n",
    "import os\n",
    "import sys\n",
    "import importlib\n",
    "from pathlib import Path\n",
    "import pandas as pd\n",
    "import joblib\n",
    "import matplotlib.pyplot as plt\n",
    "\n",
    "from itertools import product\n",
    "from collections import defaultdict"
   ]
  },
  {
   "cell_type": "code",
   "execution_count": 2,
   "id": "fa650a8c",
   "metadata": {},
   "outputs": [],
   "source": [
    "# 获取项目根目录\n",
    "project_root = Path(os.getcwd()).parent\n",
    "sys.path.append(str(project_root))\n",
    "\n",
    "# 导入数据\n",
    "processed_path = Path(project_root) / 'data' / 'processed'\n",
    "learning_data = pd.read_csv(processed_path / 'Task2_processed.csv')"
   ]
  },
  {
   "cell_type": "markdown",
   "id": "b3600476",
   "metadata": {},
   "source": [
    "#### Fig1B"
   ]
  },
  {
   "cell_type": "code",
   "execution_count": 393,
   "id": "3898d37f",
   "metadata": {},
   "outputs": [],
   "source": [
    "import src.nips_plot as nips_plot\n",
    "importlib.reload(nips_plot)\n",
    "from src.nips_plot import Fig1B\n",
    "\n",
    "# 初始化处理器\n",
    "plot_fig1b = Fig1B()"
   ]
  },
  {
   "cell_type": "code",
   "execution_count": 394,
   "id": "ac29cdf2",
   "metadata": {},
   "outputs": [],
   "source": [
    "# 导入被试数据\n",
    "iSub = 7\n",
    "subject_data = learning_data[learning_data['iSub'] == iSub]\n",
    "subject_data = subject_data.reset_index(drop=True)\n",
    "ncats=2"
   ]
  },
  {
   "cell_type": "code",
   "execution_count": 395,
   "id": "7bc0462e",
   "metadata": {},
   "outputs": [
    {
     "name": "stdout",
     "output_type": "stream",
     "text": [
      "完成：仅绘制行 [125]，图表已保存至 /home/yangjiong/CategoryLearning/results/Nips_figures/choice*/ 文件夹。\n"
     ]
    }
   ],
   "source": [
    "# 绘制单帧图片\n",
    "plots_dir = Path(project_root) / 'results' / 'Nips_figures' \n",
    "\n",
    "plot_fig1b.process_and_plot(ncats, subject_data, plots_dir, 125)"
   ]
  },
  {
   "cell_type": "markdown",
   "id": "1d7cc2f3",
   "metadata": {},
   "source": [
    "#### Fig1C"
   ]
  },
  {
   "cell_type": "code",
   "execution_count": 20,
   "id": "d7915b34",
   "metadata": {},
   "outputs": [],
   "source": [
    "# 生成每个被试内部的试次编号\n",
    "learning_data['trial_in_sub'] = learning_data.groupby('iSub').cumcount() + 1\n",
    "\n",
    "# 计算滑动窗口正确率\n",
    "learning_data['rolling_accuracy'] = learning_data.groupby('iSub')[\n",
    "    'feedback'].transform(lambda x: x.rolling(16, min_periods=16).mean())\n",
    "\n",
    "# 四列相加，生成 feature_use\n",
    "feature_cols = ['feature1_use', 'feature2_use', 'feature3_use', 'feature4_use']\n",
    "\n",
    "# learning_data['feature_use'] = learning_data[feature_cols].sum(axis=1)\n",
    "# learning_data['rolling_feature_use'] = (\n",
    "#     learning_data.groupby('iSub')['feature_use'].transform(\n",
    "#         lambda x: x.rolling(16, min_periods=16).mean()))\n",
    "\n",
    "# 对 'feature1_use', 'feature2_use', 'feature3_use', 'feature4_use' 分别求滑动窗口平均\n",
    "for feature in ['feature1_use', 'feature2_use', 'feature3_use', 'feature4_use']:\n",
    "    learning_data[f'rolling_{feature}'] = learning_data.groupby('iSub')[feature].transform(\n",
    "        lambda x: x.rolling(16, min_periods=16).mean())"
   ]
  },
  {
   "cell_type": "code",
   "execution_count": 22,
   "id": "1efe2d5d",
   "metadata": {},
   "outputs": [],
   "source": [
    "import src.nips_plot as nips_plot\n",
    "importlib.reload(nips_plot)\n",
    "from src.nips_plot import Fig1C\n",
    "\n",
    "# 初始化处理器\n",
    "plot_fig1c = Fig1C()"
   ]
  },
  {
   "cell_type": "code",
   "execution_count": 23,
   "id": "fb12c3ce",
   "metadata": {},
   "outputs": [
    {
     "name": "stdout",
     "output_type": "stream",
     "text": [
      "Figure saved to /home/yangjiong/CategoryLearning/results/Nips_figures/Fig1C_accuracy.png\n"
     ]
    }
   ],
   "source": [
    "plots_dir = Path(project_root) / 'results' / 'Nips_figures'\n",
    "plot_fig1c.plot_accuracy(learning_data,\n",
    "                    subject_ids=[7, 5, 3],\n",
    "                    widths=(0.7,1.5,1.3),\n",
    "                    figsize=(22,4),\n",
    "                    color_acc='#45B53F',\n",
    "                    save_path=plots_dir / 'Fig1C_accuracy.png')"
   ]
  },
  {
   "cell_type": "code",
   "execution_count": 24,
   "id": "f3b7e180",
   "metadata": {},
   "outputs": [
    {
     "name": "stdout",
     "output_type": "stream",
     "text": [
      "Figure saved to /home/yangjiong/CategoryLearning/results/Nips_figures/Fig1C_feature.png\n"
     ]
    }
   ],
   "source": [
    "plot_fig1c.plot_feature(\n",
    "    learning_data,\n",
    "    subject_ids=[7,5,3],\n",
    "    widths=(0.7,1.5,1.3),\n",
    "    figsize=(22,4),\n",
    "    save_path=plots_dir / 'Fig1C_feature.png')"
   ]
  },
  {
   "cell_type": "markdown",
   "id": "66aac3c5",
   "metadata": {},
   "source": [
    "#### Fig 3A"
   ]
  },
  {
   "cell_type": "code",
   "execution_count": 3,
   "id": "71142464",
   "metadata": {},
   "outputs": [],
   "source": [
    "# 加载拟合结果\n",
    "base_results = joblib.load(Path(project_root) / 'results' / 'Bayesian_new' / 'M_Base_fitting_results.joblib')\n",
    "forget_results = joblib.load(Path(project_root) / 'results' / 'Bayesian_new' / 'M_Fgt_fitting_results_400.joblib')\n",
    "cluster_results = joblib.load(Path(project_root) / 'results' / 'Bayesian_recon' / 'M_fgt_cl_random7_randp_k3.joblib')"
   ]
  },
  {
   "cell_type": "code",
   "execution_count": 4,
   "id": "1165e32a",
   "metadata": {},
   "outputs": [],
   "source": [
    "import src.Bayesian_new.problems.model as model\n",
    "importlib.reload(model)\n",
    "from src.Bayesian_new.problems.model import SingleRationalModel\n",
    "\n",
    "import src.Bayesian_new.problems.config as config\n",
    "importlib.reload(config)\n",
    "from src.Bayesian_new.problems.config import config_base"
   ]
  },
  {
   "cell_type": "code",
   "execution_count": 10,
   "id": "d25d0dd2",
   "metadata": {},
   "outputs": [],
   "source": [
    "def get_prediction(fitting_results, learning_data):\n",
    "    predict_results = {}\n",
    "\n",
    "    for i, (iSub, subject_data) in enumerate(learning_data.groupby('iSub')):\n",
    "        condition = subject_data['condition'].iloc[0]\n",
    "        model_base = SingleRationalModel(config_base, condition=condition)\n",
    "        s_data = (subject_data[[\"feature1\", \"feature2\", \"feature3\", \"feature4\"]].values,\n",
    "                subject_data[\"choice\"].values,\n",
    "                subject_data[\"feedback\"].values, \n",
    "                subject_data[\"category\"].values)\n",
    "        \n",
    "        step_results = fitting_results[iSub].get('step_results', fitting_results[iSub].get('best_step_results'))\n",
    "        results = model_base.predict_choice(s_data, step_results, use_cached_dist=False, window_size=16)\n",
    "\n",
    "        predict_results[iSub] = {\n",
    "            'condition': condition,\n",
    "            'true_acc': results['true_acc'],\n",
    "            'pred_acc': results['pred_acc'],\n",
    "            'sliding_true_acc': results['sliding_true_acc'],\n",
    "            'sliding_pred_acc': results['sliding_pred_acc'],\n",
    "            'sliding_pred_acc_std': results['sliding_pred_acc_std']\n",
    "        }\n",
    "    return predict_results"
   ]
  },
  {
   "cell_type": "code",
   "execution_count": 12,
   "id": "52148254",
   "metadata": {},
   "outputs": [],
   "source": [
    "base_predict_results = get_prediction(base_results, learning_data)\n",
    "forget_predict_results = get_prediction(forget_results, learning_data)\n",
    "cluster_predict_results = get_prediction(cluster_results, learning_data)"
   ]
  },
  {
   "cell_type": "code",
   "execution_count": 25,
   "id": "ca8f22c3",
   "metadata": {},
   "outputs": [],
   "source": [
    "import src.nips_plot as nips_plot\n",
    "importlib.reload(nips_plot)\n",
    "from src.nips_plot import Fig3\n",
    "\n",
    "# 初始化处理器\n",
    "plot_fig3 = Fig3()"
   ]
  },
  {
   "cell_type": "code",
   "execution_count": 26,
   "id": "530e63e9",
   "metadata": {},
   "outputs": [
    {
     "name": "stdout",
     "output_type": "stream",
     "text": [
      "Figure saved to /home/yangjiong/CategoryLearning/results/Nips_figures/Fig3A_acc_comparison.png\n"
     ]
    }
   ],
   "source": [
    "plots_dir = Path(project_root) / 'results' / 'Nips_figures'\n",
    "plot_fig3.plot_acc_comparison(results=cluster_predict_results,\n",
    "                    subject_ids=[7, 5, 3],\n",
    "                    widths=(0.7,1.5,1.3),\n",
    "                    figsize=(22,4),\n",
    "                    color_acc='#45B53F',\n",
    "                    save_path=plots_dir / 'Fig3A_acc_comparison.png')"
   ]
  },
  {
   "cell_type": "markdown",
   "id": "2ad7c05b",
   "metadata": {},
   "source": [
    "#### Fig 3B"
   ]
  },
  {
   "cell_type": "code",
   "execution_count": null,
   "id": "59e5f5b2",
   "metadata": {},
   "outputs": [],
   "source": []
  }
 ],
 "metadata": {
  "kernelspec": {
   "display_name": "bayes",
   "language": "python",
   "name": "python3"
  },
  "language_info": {
   "codemirror_mode": {
    "name": "ipython",
    "version": 3
   },
   "file_extension": ".py",
   "mimetype": "text/x-python",
   "name": "python",
   "nbconvert_exporter": "python",
   "pygments_lexer": "ipython3",
   "version": "3.10.16"
  }
 },
 "nbformat": 4,
 "nbformat_minor": 5
}
