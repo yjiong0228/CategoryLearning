{
 "cells": [
  {
   "cell_type": "code",
   "execution_count": 1,
   "id": "897e9e78",
   "metadata": {},
   "outputs": [],
   "source": [
    "%load_ext autoreload\n",
    "%autoreload 2\n",
    "import os\n",
    "import sys\n",
    "import importlib\n",
    "from pathlib import Path\n",
    "import pandas as pd\n",
    "import numpy as np\n",
    "import joblib\n",
    "import matplotlib.pyplot as plt\n",
    "\n",
    "from itertools import product\n",
    "from collections import defaultdict"
   ]
  },
  {
   "cell_type": "code",
   "execution_count": 2,
   "id": "fa650a8c",
   "metadata": {},
   "outputs": [],
   "source": [
    "# 获取项目根目录\n",
    "project_root = Path(os.getcwd()).parent\n",
    "sys.path.append(str(project_root))\n",
    "\n",
    "# 导入数据\n",
    "processed_path = Path(project_root) / 'data' / 'processed'\n",
    "learning_data = pd.read_csv(processed_path / 'Task2_processed.csv')"
   ]
  },
  {
   "cell_type": "markdown",
   "id": "1c2b0eb0",
   "metadata": {},
   "source": [
    "#### Fig 1C"
   ]
  },
  {
   "cell_type": "code",
   "execution_count": 171,
   "id": "52d69daf",
   "metadata": {},
   "outputs": [],
   "source": [
    "import src.nips_plot as nips_plot\n",
    "importlib.reload(nips_plot)\n",
    "from src.nips_plot import Fig1_Ntrial\n",
    "\n",
    "# 初始化处理器\n",
    "plot_fig1_ntrial = Fig1_Ntrial()"
   ]
  },
  {
   "cell_type": "code",
   "execution_count": 187,
   "id": "457917f7",
   "metadata": {},
   "outputs": [
    {
     "name": "stdout",
     "output_type": "stream",
     "text": [
      "Figure saved to /home/yangjiong/CategoryLearning/results/Nips_figures_final/Fig1D_ntrial.svg\n"
     ]
    }
   ],
   "source": [
    "plots_dir = Path(project_root) / 'results' / 'Nips_figures_final'\n",
    "plot_fig1_ntrial.plot_trial_number(learning_data,iCon=1,\n",
    "                                figsize=(2, 6.2),\n",
    "                                color='#A6A6A6',\n",
    "                                save_path=plots_dir / 'Fig1D_ntrial.svg')"
   ]
  },
  {
   "cell_type": "markdown",
   "id": "1d7cc2f3",
   "metadata": {},
   "source": [
    "#### Fig 1D"
   ]
  },
  {
   "cell_type": "code",
   "execution_count": 5,
   "id": "1efe2d5d",
   "metadata": {},
   "outputs": [],
   "source": [
    "import src.nips_plot as nips_plot\n",
    "importlib.reload(nips_plot)\n",
    "from src.nips_plot import Fig1_Acc\n",
    "\n",
    "# 初始化处理器\n",
    "plot_fig1_acc = Fig1_Acc()"
   ]
  },
  {
   "cell_type": "code",
   "execution_count": 15,
   "id": "fb12c3ce",
   "metadata": {},
   "outputs": [
    {
     "name": "stdout",
     "output_type": "stream",
     "text": [
      "Figure saved to /home/yangjiong/CategoryLearning/results/Nips_figures_final/Fig1D_accuracy_1.svg\n"
     ]
    }
   ],
   "source": [
    "plots_dir = Path(project_root) / 'results' / 'Nips_figures_final'\n",
    "plot_fig1_acc.plot_accuracy(learning_data,\n",
    "                            subject_ids=[1,4],\n",
    "                            subfig=1,\n",
    "                            nrow=2,\n",
    "                            window_size=16,\n",
    "                            block_size=64,\n",
    "                            h_pad=8.8,\n",
    "                            color='#986E56',\n",
    "                            max_trial=192,\n",
    "                            figsize=(2.3, 5.5),\n",
    "                            save_path=plots_dir / 'Fig1D_accuracy_1.svg')"
   ]
  },
  {
   "cell_type": "code",
   "execution_count": 20,
   "id": "f106c401",
   "metadata": {},
   "outputs": [
    {
     "name": "stdout",
     "output_type": "stream",
     "text": [
      "Figure saved to /home/yangjiong/CategoryLearning/results/Nips_figures_final/Fig1D_accuracy_2.svg\n"
     ]
    }
   ],
   "source": [
    "plot_fig1_acc.plot_accuracy(learning_data,\n",
    "                            subject_ids=[7,10,13,19,22,16],\n",
    "                            subfig=2,\n",
    "                            nrow=2,\n",
    "                            window_size=16,\n",
    "                            block_size=64,\n",
    "                            h_pad=8,\n",
    "                            color=['#875443','#3F2219'],\n",
    "                            sub_text=[3,4,5,6,7,8],\n",
    "                            figsize=(10.5, 5.5),\n",
    "                            save_path=plots_dir / 'Fig1D_accuracy_2.svg')"
   ]
  },
  {
   "cell_type": "markdown",
   "id": "b3600476",
   "metadata": {},
   "source": [
    "#### Fig 1E"
   ]
  },
  {
   "cell_type": "code",
   "execution_count": 4,
   "id": "3898d37f",
   "metadata": {},
   "outputs": [],
   "source": [
    "import src.nips_plot as nips_plot\n",
    "importlib.reload(nips_plot)\n",
    "from src.nips_plot import Fig1_Oral\n",
    "\n",
    "# 初始化处理器\n",
    "plot_fig1_oral = Fig1_Oral()"
   ]
  },
  {
   "cell_type": "markdown",
   "id": "bf944aa5",
   "metadata": {},
   "source": [
    "##### subject-1"
   ]
  },
  {
   "cell_type": "code",
   "execution_count": 72,
   "id": "ac29cdf2",
   "metadata": {},
   "outputs": [
    {
     "name": "stdout",
     "output_type": "stream",
     "text": [
      "完成：仅绘制行 [248]，图表已保存至 /home/yangjiong/CategoryLearning/results/Nips_figures/choice*/ 文件夹。\n"
     ]
    }
   ],
   "source": [
    "# 导入被试数据\n",
    "iSub = 7\n",
    "subject_data = learning_data[learning_data['iSub'] == iSub]\n",
    "subject_data = subject_data.reset_index(drop=True)\n",
    "ncats=2\n",
    "\n",
    "# 绘制单帧图片\n",
    "plots_dir = Path(project_root) / 'results' / 'Nips_figures' \n",
    "plot_fig1_oral.plot_human_trajactory(ncats, subject_data, 1, plots_dir, row_indices=248)"
   ]
  },
  {
   "cell_type": "code",
   "execution_count": 73,
   "id": "ef8137c9",
   "metadata": {},
   "outputs": [
    {
     "name": "stdout",
     "output_type": "stream",
     "text": [
      "完成：仅绘制行 [248]，图表已保存至 /home/yangjiong/CategoryLearning/results/Nips_figures/choice*/ 文件夹。\n"
     ]
    }
   ],
   "source": [
    "iSub = 7\n",
    "subject_data = learning_data[learning_data['iSub'] == iSub]\n",
    "subject_data = subject_data.reset_index(drop=True)\n",
    "ncats=2\n",
    "\n",
    "plot_fig1_oral.plot_human_trajactory(ncats, subject_data, 2, plots_dir, 112, 248, 248)"
   ]
  },
  {
   "cell_type": "markdown",
   "id": "6a7718dc",
   "metadata": {},
   "source": [
    "##### subject-2"
   ]
  },
  {
   "cell_type": "code",
   "execution_count": 81,
   "id": "ef977f21",
   "metadata": {},
   "outputs": [
    {
     "name": "stdout",
     "output_type": "stream",
     "text": [
      "完成：仅绘制行 [127]，图表已保存至 /home/yangjiong/CategoryLearning/results/Nips_figures/choice*/ 文件夹。\n"
     ]
    }
   ],
   "source": [
    "# 导入被试数据\n",
    "iSub = 1\n",
    "subject_data = learning_data[learning_data['iSub'] == iSub]\n",
    "subject_data = subject_data.reset_index(drop=True)\n",
    "ncats=2\n",
    "\n",
    "# 绘制单帧图片\n",
    "plots_dir = Path(project_root) / 'results' / 'Nips_figures' \n",
    "plot_fig1_oral.plot_human_trajactory(ncats, subject_data, 1, plots_dir, row_indices=127)"
   ]
  },
  {
   "cell_type": "code",
   "execution_count": 82,
   "id": "ef5045e8",
   "metadata": {},
   "outputs": [
    {
     "name": "stdout",
     "output_type": "stream",
     "text": [
      "完成：仅绘制行 [127]，图表已保存至 /home/yangjiong/CategoryLearning/results/Nips_figures/choice*/ 文件夹。\n"
     ]
    }
   ],
   "source": [
    "iSub = 1\n",
    "subject_data = learning_data[learning_data['iSub'] == iSub]\n",
    "subject_data = subject_data.reset_index(drop=True)\n",
    "ncats=2\n",
    "\n",
    "plot_fig1_oral.plot_human_trajactory(ncats, subject_data, 2, plots_dir, 68, 127, 127)"
   ]
  },
  {
   "cell_type": "markdown",
   "id": "8222e53e",
   "metadata": {},
   "source": [
    "##### model"
   ]
  },
  {
   "cell_type": "code",
   "execution_count": null,
   "id": "05bad448",
   "metadata": {},
   "outputs": [],
   "source": [
    "# 导入模型数据\n",
    "result_path = Path(project_root) / 'results' / 'Model_results'\n",
    "fitting_results = joblib.load(result_path / 'M0_base.joblib')"
   ]
  },
  {
   "cell_type": "code",
   "execution_count": null,
   "id": "ae528fe9",
   "metadata": {},
   "outputs": [],
   "source": [
    "import src.Bayesian_new.problems.model as model\n",
    "importlib.reload(model)\n",
    "from src.Bayesian_new.problems.model import SingleRationalModel\n",
    "\n",
    "import src.Bayesian_new.problems.config as config\n",
    "importlib.reload(config)\n",
    "from src.Bayesian_new.problems.config import config_base"
   ]
  },
  {
   "cell_type": "code",
   "execution_count": 86,
   "id": "be43860b",
   "metadata": {},
   "outputs": [],
   "source": [
    "iSub = 7\n",
    "sub_result = fitting_results[iSub]\n",
    "step_results = sub_result['best_step_results']\n",
    "cond = sub_result['condition']\n",
    "\n",
    "model  = SingleRationalModel(config_base, condition=cond)\n",
    "model_centers = plot_fig1_oral.get_model_centers(step_results,\n",
    "                                                 model,\n",
    "                                                 ncats=ncats)\n",
    "model_centers['iSub']     = iSub\n",
    "model_centers['iTrial']   = model_centers.index + 1"
   ]
  },
  {
   "cell_type": "code",
   "execution_count": 94,
   "id": "93b37107",
   "metadata": {},
   "outputs": [
    {
     "name": "stdout",
     "output_type": "stream",
     "text": [
      "完成模型轨迹绘制：行 [29]，图表已保存至 /home/yangjiong/CategoryLearning/results/Nips_figures/choice*/ 文件夹。\n"
     ]
    }
   ],
   "source": [
    "# 绘制单帧图片\n",
    "plots_dir = Path(project_root) / 'results' / 'Nips_figures' \n",
    "plot_fig1_oral.plot_model_trajactory(ncats, model_centers, 1, plots_dir, row_indices=29)"
   ]
  },
  {
   "cell_type": "code",
   "execution_count": 89,
   "id": "e0442e9e",
   "metadata": {},
   "outputs": [
    {
     "name": "stdout",
     "output_type": "stream",
     "text": [
      "完成模型轨迹绘制：行 [29]，图表已保存至 /home/yangjiong/CategoryLearning/results/Nips_figures/choice*/ 文件夹。\n"
     ]
    }
   ],
   "source": [
    "plot_fig1_oral.plot_model_trajactory(ncats, model_centers, 2, plots_dir, 30, 30, 29)"
   ]
  },
  {
   "cell_type": "markdown",
   "id": "d31a7183",
   "metadata": {},
   "source": [
    "#### Fig 2A"
   ]
  },
  {
   "cell_type": "code",
   "execution_count": 142,
   "id": "da25fa16",
   "metadata": {},
   "outputs": [],
   "source": [
    "import src.nips_plot as nips_plot\n",
    "importlib.reload(nips_plot)\n",
    "from src.nips_plot import Fig2_Partition\n",
    "\n",
    "# 初始化处理器\n",
    "plot_fig2_partition = Fig2_Partition()"
   ]
  },
  {
   "cell_type": "code",
   "execution_count": 143,
   "id": "0f1e9526",
   "metadata": {},
   "outputs": [],
   "source": [
    "plots_dir = Path(project_root) / 'results' / 'Nips_figures_final' \n",
    "plot_fig2_partition.plot(i=1, save_path=plots_dir / 'Fig2_partition_1.svg')"
   ]
  },
  {
   "cell_type": "code",
   "execution_count": 144,
   "id": "a8c50dcd",
   "metadata": {},
   "outputs": [],
   "source": [
    "plot_fig2_partition.plot(i=2, save_path=plots_dir / 'Fig2_partition_2.svg')"
   ]
  },
  {
   "cell_type": "code",
   "execution_count": 145,
   "id": "47c716c4",
   "metadata": {},
   "outputs": [],
   "source": [
    "plot_fig2_partition.plot(i=3, save_path=plots_dir / 'Fig2_partition_3.svg')"
   ]
  },
  {
   "cell_type": "markdown",
   "id": "66aac3c5",
   "metadata": {},
   "source": [
    "#### Fig 3A"
   ]
  },
  {
   "cell_type": "code",
   "execution_count": 107,
   "id": "71142464",
   "metadata": {},
   "outputs": [],
   "source": [
    "# 加载拟合结果\n",
    "result_path = Path(project_root) / 'results' / 'Model_results'\n",
    "M0_results = joblib.load(result_path / 'M0_base.joblib')\n",
    "M1_results = joblib.load(result_path / 'M1_P.joblib')\n",
    "M2_results = joblib.load(result_path / 'M2_M.joblib')\n",
    "M3_results = joblib.load(result_path / 'M3_H.joblib')\n",
    "M4_results = joblib.load(result_path / 'M4_PM.joblib')\n",
    "M5_results = joblib.load(result_path / 'M5_PH.joblib')\n",
    "M6_results = joblib.load(result_path / 'M6_MH.joblib')\n",
    "M7_results = joblib.load(result_path / 'M7_PMH.joblib')"
   ]
  },
  {
   "cell_type": "code",
   "execution_count": 117,
   "id": "fd59ac66",
   "metadata": {},
   "outputs": [],
   "source": [
    "from src.Bayesian_recon import *\n",
    "from src.Bayesian_recon.problems.config import config_fgt\n",
    "from src.Bayesian_recon.problems import *\n",
    "from src.Bayesian_recon.utils.optimizer import Optimizer\n",
    "\n",
    "optimizer = Optimizer({}, n_jobs=1)\n",
    "processed_path = Path(project_root) / 'data' / 'processed'\n",
    "optimizer.prepare_data(processed_path / 'Task2_processed.csv')"
   ]
  },
  {
   "cell_type": "code",
   "execution_count": 120,
   "id": "0737e683",
   "metadata": {},
   "outputs": [],
   "source": [
    "def get_prediction(fitting_results):\n",
    "    optimizer.set_results(fitting_results)\n",
    "    predict_results = optimizer.predict_with_subs_parallel(config_fgt,list(range(1, 25)))\n",
    "    return predict_results"
   ]
  },
  {
   "cell_type": "code",
   "execution_count": null,
   "id": "aa712e45",
   "metadata": {},
   "outputs": [
    {
     "name": "stderr",
     "output_type": "stream",
     "text": [
      "Predicting tasks:   0%|                                                      | 0/24 [00:00<?, ?it/s]"
     ]
    },
    {
     "name": "stderr",
     "output_type": "stream",
     "text": [
      "Predicting tasks: 100%|█████████████████████████████████████████████| 24/24 [00:01<00:00, 15.84it/s]\n"
     ]
    }
   ],
   "source": [
    "M0_predict_results = get_prediction(M0_results)\n",
    "M1_predict_results = get_prediction(M1_results)\n",
    "M2_predict_results = get_prediction(M2_results)\n",
    "M3_predict_results = get_prediction(M3_results)\n",
    "M4_predict_results = get_prediction(M4_results)\n",
    "M5_predict_results = get_prediction(M5_results)\n",
    "M6_predict_results = get_prediction(M6_results)\n",
    "M7_predict_results = get_prediction(M7_results)"
   ]
  },
  {
   "cell_type": "code",
   "execution_count": 123,
   "id": "7aeb6c4a",
   "metadata": {},
   "outputs": [
    {
     "data": {
      "text/plain": [
       "['/home/yangjiong/CategoryLearning/results/Model_results/M7_predict.joblib']"
      ]
     },
     "execution_count": 123,
     "metadata": {},
     "output_type": "execute_result"
    }
   ],
   "source": [
    "joblib.dump(M0_predict_results, result_path / 'M0_predict.joblib')\n",
    "joblib.dump(M1_predict_results, result_path / 'M1_predict.joblib')\n",
    "joblib.dump(M2_predict_results, result_path / 'M2_predict.joblib')\n",
    "joblib.dump(M3_predict_results, result_path / 'M3_predict.joblib')\n",
    "joblib.dump(M4_predict_results, result_path / 'M4_predict.joblib')\n",
    "joblib.dump(M5_predict_results, result_path / 'M5_predict.joblib')\n",
    "joblib.dump(M6_predict_results, result_path / 'M6_predict.joblib')\n",
    "joblib.dump(M7_predict_results, result_path / 'M7_predict.joblib')"
   ]
  },
  {
   "cell_type": "code",
   "execution_count": 108,
   "id": "3ff65235",
   "metadata": {},
   "outputs": [],
   "source": [
    "# 加载结果\n",
    "result_path = Path(project_root) / 'results' / 'Model_results'\n",
    "M0_predict_results = joblib.load(result_path / 'M0_predict.joblib')\n",
    "M1_predict_results = joblib.load(result_path / 'M1_predict.joblib')\n",
    "M2_predict_results = joblib.load(result_path / 'M2_predict.joblib')\n",
    "M3_predict_results = joblib.load(result_path / 'M3_predict.joblib')\n",
    "M4_predict_results = joblib.load(result_path / 'M4_predict.joblib')\n",
    "M5_predict_results = joblib.load(result_path / 'M5_predict.joblib')\n",
    "M6_predict_results = joblib.load(result_path / 'M6_predict.joblib')\n",
    "M7_predict_results = joblib.load(result_path / 'M7_predict.joblib')"
   ]
  },
  {
   "cell_type": "code",
   "execution_count": 57,
   "id": "6c668fab",
   "metadata": {},
   "outputs": [],
   "source": [
    "import src.nips_plot as nips_plot\n",
    "importlib.reload(nips_plot)\n",
    "from src.nips_plot import Fig3_Group\n",
    "\n",
    "# 初始化处理器\n",
    "plot_fig3 = Fig3_Group()"
   ]
  },
  {
   "cell_type": "code",
   "execution_count": null,
   "id": "8475752d",
   "metadata": {},
   "outputs": [],
   "source": [
    "# plots_dir = Path(project_root) / 'results' / 'Nips_figures_final'\n",
    "# plot_fig3.plot_group_aic(results_list=[M0_predict_results,M1_predict_results,M2_predict_results,\n",
    "# M3_predict_results,M4_predict_results,M5_predict_results,M6_predict_results,M7_predict_results],\n",
    "#                               mc_method='fdr_bh',\n",
    "#                               figsize=(8, 5),\n",
    "#                               save_path=plots_dir / 'Fig3B_aic.png')"
   ]
  },
  {
   "cell_type": "code",
   "execution_count": 44,
   "id": "030b871e",
   "metadata": {},
   "outputs": [
    {
     "name": "stdout",
     "output_type": "stream",
     "text": [
      "Figure saved to /home/yangjiong/CategoryLearning/results/Nips_figures_final/Fig3A_acc_error.svg\n",
      "Raw p-values:         [0.     0.0003 0.0023 0.     0.2032 0.0484 0.2613]\n",
      "Corrected p-values (fdr_bh): [0.     0.0007 0.004  0.     0.237  0.0678 0.2613]\n",
      "Reject null hypotheses: [ True  True  True  True False False False]\n"
     ]
    }
   ],
   "source": [
    "plots_dir = Path(project_root) / 'results' / 'Nips_figures_final'\n",
    "plot_fig3.plot_group_acc_error(results_list=[M0_predict_results,M1_predict_results,M3_predict_results,\n",
    "                                             M5_predict_results,M2_predict_results,M4_predict_results,\n",
    "                                             M6_predict_results,M7_predict_results],\n",
    "                              mc_method='fdr_bh',\n",
    "                              figsize=(8.2, 4),\n",
    "                              labels=['Base','P','H','PH','M','PM','MH','PMH'],\n",
    "                              save_path=plots_dir / 'Fig3A_acc_error.svg')"
   ]
  },
  {
   "cell_type": "code",
   "execution_count": 11,
   "id": "e1545112",
   "metadata": {},
   "outputs": [],
   "source": [
    "oral_hypo_hits = joblib.load(Path(project_root) / 'results' / 'Bayesian_recon' / 'oral_hypo_hits.joblib')"
   ]
  },
  {
   "cell_type": "code",
   "execution_count": 58,
   "id": "e01c9204",
   "metadata": {},
   "outputs": [
    {
     "name": "stdout",
     "output_type": "stream",
     "text": [
      "Raw p-values:         [4.00e-04 0.00e+00 6.54e-01 0.00e+00 3.00e-04 3.20e-03 1.00e-03]\n",
      "Corrected p-values (fdr_bh): [7.00e-04 1.00e-04 6.54e-01 1.00e-04 6.00e-04 3.80e-03 1.40e-03]\n",
      "Reject null hypotheses: [ True  True False  True  True  True  True]\n"
     ]
    }
   ],
   "source": [
    "plots_dir = Path(project_root) / 'results' / 'Nips_figures_final'\n",
    "plot_fig3.plot_group_k_error(oral_hypo_hits=oral_hypo_hits,\n",
    "                             results_list=[M0_results,M1_results,M3_results,\n",
    "                                      M5_results,M2_results,M4_results,\n",
    "                                      M6_results,M7_results],\n",
    "                              mc_method='fdr_bh',\n",
    "                              figsize=(8.2, 4),\n",
    "                              labels=['Base','P','H','PH','M','PM','MH','PMH'],\n",
    "                              save_path=plots_dir / 'Fig3A_k_error.svg')"
   ]
  },
  {
   "cell_type": "code",
   "execution_count": 13,
   "id": "03a03ad3",
   "metadata": {},
   "outputs": [
    {
     "name": "stdout",
     "output_type": "stream",
     "text": [
      "Figure saved to /home/yangjiong/CategoryLearning/results/Nips_figures_final/Fig3A_k_corr.svg\n",
      "Raw p-values:         [0.0014 0.     0.7029 0.     0.4963 0.0874 0.013 ]\n",
      "Corrected p-values (fdr_bh): [0.0033 0.     0.7029 0.     0.579  0.1223 0.0227]\n",
      "Reject null hypotheses: [ True  True False  True False False  True]\n"
     ]
    }
   ],
   "source": [
    "plots_dir = Path(project_root) / 'results' / 'Nips_figures_final'\n",
    "plot_fig3.plot_group_k_corr(oral_hypo_hits=oral_hypo_hits,\n",
    "                             results_list=[M0_results,M1_results,M3_results,\n",
    "                                      M5_results,M2_results,M4_results,\n",
    "                                      M6_results,M7_results],\n",
    "                              mc_method='fdr_bh',\n",
    "                              figsize=(6, 5),\n",
    "                            #   colors='#DDAA33',\n",
    "                              labels=['Base','P','H','PH','M','PM','MH','PMH'],\n",
    "                              save_path=plots_dir / 'Fig3A_k_corr.svg')"
   ]
  },
  {
   "cell_type": "code",
   "execution_count": 15,
   "id": "19735e68",
   "metadata": {},
   "outputs": [
    {
     "name": "stdout",
     "output_type": "stream",
     "text": [
      "Figure saved to /home/yangjiong/CategoryLearning/results/Nips_figures_final/Fig3A_k_rdelta.svg\n",
      "Raw p-values:         [0.2838 0.1881 0.9529 0.0132 0.3194 0.8294 0.4695]\n",
      "Corrected p-values (fdr_bh): [0.5589 0.5589 0.9529 0.0924 0.5589 0.9529 0.6574]\n",
      "Reject null hypotheses: [False False False False False False False]\n"
     ]
    }
   ],
   "source": [
    "plots_dir = Path(project_root) / 'results' / 'Nips_figures_final'\n",
    "plot_fig3.plot_group_k_rdelta(oral_hypo_hits=oral_hypo_hits,\n",
    "                             results_list=[M0_results,M1_results,M3_results,\n",
    "                                      M5_results,M2_results,M4_results,\n",
    "                                      M6_results,M7_results],\n",
    "                              mc_method='fdr_bh',\n",
    "                              figsize=(6, 5),\n",
    "                            #   colors='#DDAA33',\n",
    "                              labels=['Base','P','H','PH','M','PM','MH','PMH'],\n",
    "                              save_path=plots_dir / 'Fig3A_k_rdelta.svg')"
   ]
  },
  {
   "cell_type": "markdown",
   "id": "0f051c5f",
   "metadata": {},
   "source": [
    "#### Fig 3B"
   ]
  },
  {
   "cell_type": "code",
   "execution_count": 48,
   "id": "ca8f22c3",
   "metadata": {},
   "outputs": [],
   "source": [
    "import src.nips_plot as nips_plot\n",
    "importlib.reload(nips_plot)\n",
    "from src.nips_plot import Fig3_Individual\n",
    "\n",
    "# 初始化处理器\n",
    "plot_fig3_individual = Fig3_Individual()"
   ]
  },
  {
   "cell_type": "code",
   "execution_count": 70,
   "id": "0440485f",
   "metadata": {},
   "outputs": [
    {
     "name": "stdout",
     "output_type": "stream",
     "text": [
      "Figure saved to /home/yangjiong/CategoryLearning/results/Nips_figures_final/Fig3B_acc_17.svg\n"
     ]
    }
   ],
   "source": [
    "subject_id = 17\n",
    "subject_label = 14\n",
    "plots_dir = Path(project_root) / 'results' / 'Nips_figures_final'\n",
    "plot_fig3_individual.plot_acc_comparison(results=M7_predict_results,\n",
    "                              subject_id=subject_id,\n",
    "                              color='#B38665',\n",
    "                              color_true='#A6A6A6',\n",
    "                              xtick_interval=128,\n",
    "                              subject_label=f'{subject_label}',\n",
    "                              model_label='PMH',\n",
    "                              figsize=(8, 4.2),\n",
    "                              save_path=plots_dir / f'Fig3B_acc_{subject_id}.svg')"
   ]
  },
  {
   "cell_type": "code",
   "execution_count": 65,
   "id": "66f398bf",
   "metadata": {},
   "outputs": [],
   "source": [
    "oral_hypo_hits = joblib.load(Path(project_root) / 'results' / 'Bayesian_recon' / 'oral_hypo_hits.joblib')"
   ]
  },
  {
   "cell_type": "code",
   "execution_count": 113,
   "id": "ef03218d",
   "metadata": {},
   "outputs": [
    {
     "name": "stdout",
     "output_type": "stream",
     "text": [
      "Figure saved to /home/yangjiong/CategoryLearning/results/Nips_figures_final/Fig3B_k_17.svg\n"
     ]
    }
   ],
   "source": [
    "plots_dir = Path(project_root) / 'results' / 'Nips_figures_final'\n",
    "plot_fig3_individual.plot_k_comparison(oral_hypo_hits,\n",
    "                             results=M7_results,\n",
    "                             subject_id=subject_id,\n",
    "                             color='#20978B',\n",
    "                             color_true='#A6A6A6',\n",
    "                             xtick_interval=128,\n",
    "                             subject_label=f'{subject_label}',\n",
    "                             model_label='PMH',\n",
    "                             figsize=(8, 3.3),\n",
    "                             save_path=plots_dir / f'Fig3B_k_{subject_id}.svg')"
   ]
  },
  {
   "cell_type": "markdown",
   "id": "2ad7c05b",
   "metadata": {},
   "source": [
    "#### Fig 3C"
   ]
  },
  {
   "cell_type": "code",
   "execution_count": 53,
   "id": "e38d7c29",
   "metadata": {},
   "outputs": [],
   "source": [
    "subject_ids = [7, 16, 5, 12]\n",
    "subject_labels = [3, 6, 9, 20]"
   ]
  },
  {
   "cell_type": "code",
   "execution_count": 54,
   "id": "fa1447c0",
   "metadata": {},
   "outputs": [
    {
     "name": "stdout",
     "output_type": "stream",
     "text": [
      "Figure saved to /home/yangjiong/CategoryLearning/results/Nips_figures_final/Fig3C_acc.svg\n"
     ]
    }
   ],
   "source": [
    "plots_dir = Path(project_root) / 'results' / 'Nips_figures_final'\n",
    "plot_fig3_individual.plot_acc_comparison_subs(results=M7_predict_results,\n",
    "                                subject_ids=subject_ids,\n",
    "                                nrow=2,\n",
    "                                color='#B38665',\n",
    "                                color_true='#A6A6A6',\n",
    "                                xtick_interval=128,\n",
    "                                subject_labels=subject_labels,\n",
    "                                figsize=(8, 7),\n",
    "                                save_path=plots_dir / f'Fig3C_acc.svg')"
   ]
  },
  {
   "cell_type": "code",
   "execution_count": 55,
   "id": "fba60948",
   "metadata": {},
   "outputs": [
    {
     "name": "stdout",
     "output_type": "stream",
     "text": [
      "Figure saved to /home/yangjiong/CategoryLearning/results/Nips_figures_final/Fig3C_k_7.svg\n",
      "Figure saved to /home/yangjiong/CategoryLearning/results/Nips_figures_final/Fig3C_k_16.svg\n",
      "Figure saved to /home/yangjiong/CategoryLearning/results/Nips_figures_final/Fig3C_k_5.svg\n",
      "Figure saved to /home/yangjiong/CategoryLearning/results/Nips_figures_final/Fig3C_k_12.svg\n"
     ]
    }
   ],
   "source": [
    "for subject_id in subject_ids:\n",
    "    plot_fig3_individual.plot_k_comparison_small(oral_hypo_hits,\n",
    "                                 results=M7_results,\n",
    "                                 subject_id=subject_id,\n",
    "                                 figsize=(3, 1.7),\n",
    "                                 color='#20978B',\n",
    "                                 color_true='#A6A6A6',\n",
    "                                 xtick_interval=128,\n",
    "                                 save_path=plots_dir / f'Fig3C_k_{subject_id}.svg')"
   ]
  },
  {
   "cell_type": "markdown",
   "id": "d2a49250",
   "metadata": {},
   "source": [
    "#### Fig 4"
   ]
  },
  {
   "cell_type": "code",
   "execution_count": 59,
   "id": "e587b90f",
   "metadata": {},
   "outputs": [],
   "source": [
    "import src.nips_plot as nips_plot\n",
    "importlib.reload(nips_plot)\n",
    "from src.nips_plot import Fig4\n",
    "\n",
    "# 初始化处理器\n",
    "plot_fig4 = Fig4()"
   ]
  },
  {
   "cell_type": "code",
   "execution_count": 56,
   "id": "960d0223",
   "metadata": {},
   "outputs": [
    {
     "name": "stdout",
     "output_type": "stream",
     "text": [
      "Figure saved to /home/yangjiong/CategoryLearning/results/Nips_figures_final/Fig4A_acc_14.svg\n"
     ]
    }
   ],
   "source": [
    "subject_id = 14\n",
    "subject_label = 13\n",
    "plots_dir = Path(project_root) / 'results' / 'Nips_figures_final'\n",
    "plot_fig4.plot_acc_comparison_models(results_list=[M2_predict_results,M3_predict_results,M0_predict_results],\n",
    "                                subject_id=subject_id,\n",
    "                                colors=['#FFC000','#AD78D7','#404040'],\n",
    "                                color_true='#A6A6A6',\n",
    "                                xtick_interval=128,\n",
    "                                subject_label=f'{subject_label}',\n",
    "                                model_labels=['M-only','H-only','Base'],\n",
    "                                figsize=(17.3, 3.7),\n",
    "                                width_ratios=[0.46,0.27,0.27],\n",
    "                                save_path=plots_dir / f'Fig4A_acc_{subject_id}.svg')"
   ]
  },
  {
   "cell_type": "code",
   "execution_count": 36,
   "id": "eae48bd1",
   "metadata": {},
   "outputs": [],
   "source": [
    "oral_hypo_hits = joblib.load(Path(project_root) / 'results' / 'Bayesian_recon' / 'oral_hypo_hits.joblib')"
   ]
  },
  {
   "cell_type": "code",
   "execution_count": 62,
   "id": "12c91013",
   "metadata": {},
   "outputs": [
    {
     "name": "stdout",
     "output_type": "stream",
     "text": [
      "Figure saved to /home/yangjiong/CategoryLearning/results/Nips_figures_final/Fig4B_k_17.svg\n"
     ]
    }
   ],
   "source": [
    "subject_id = 17\n",
    "subject_label = 14\n",
    "plot_fig4.plot_k_comparison_models(oral_hypo_hits=oral_hypo_hits,\n",
    "    results_list=[M2_results, M3_results, M0_results],\n",
    "    subject_id=subject_id,\n",
    "    colors=['#FFC000', '#AD78D7', '#404040'],\n",
    "    color_true='#A6A6A6',\n",
    "    xtick_interval=128,\n",
    "    subject_label=f'{subject_label}',\n",
    "    model_labels=['M-only', 'H-only', 'Base'],\n",
    "    figsize=(16.6, 3.6),\n",
    "    width_ratios=[0.46, 0.27, 0.27],\n",
    "    save_path=plots_dir / f'Fig4B_k_{subject_id}.svg')"
   ]
  },
  {
   "cell_type": "markdown",
   "id": "8583b46d",
   "metadata": {},
   "source": [
    "#### Fig 5A"
   ]
  },
  {
   "cell_type": "code",
   "execution_count": 97,
   "id": "b6e7a905",
   "metadata": {},
   "outputs": [],
   "source": [
    "import src.nips_plot as nips_plot\n",
    "importlib.reload(nips_plot)\n",
    "from src.nips_plot import Fig5\n",
    "\n",
    "# 初始化处理器\n",
    "plot_fig5 = Fig5()"
   ]
  },
  {
   "cell_type": "code",
   "execution_count": null,
   "id": "545e63a9",
   "metadata": {},
   "outputs": [
    {
     "name": "stdout",
     "output_type": "stream",
     "text": [
      "Figure saved to /home/yangjiong/CategoryLearning/results/Nips_figures_final/Fig5A_amount.svg\n"
     ]
    }
   ],
   "source": [
    "plots_dir = Path(project_root) / 'results' / 'Nips_figures_final'\n",
    "plot_fig5.plot_amount(results=M7_results,\n",
    "                             subject_id=17,\n",
    "                             figsize=(8, 4.2),\n",
    "                             color_1='#C9AAE6',\n",
    "                             color_2='#7B3BB7',\n",
    "                             label_1='Exploitation',\n",
    "                             label_2='Exploration',\n",
    "                             save_path=plots_dir / 'Fig5A_amount.svg')"
   ]
  },
  {
   "cell_type": "code",
   "execution_count": 85,
   "id": "a2b49a0f",
   "metadata": {},
   "outputs": [],
   "source": [
    "results = joblib.load(Path(project_root) / 'results' / 'Bayesian_recon' / 'M_fgt_cl.joblib')"
   ]
  },
  {
   "cell_type": "code",
   "execution_count": 111,
   "id": "035cf05b",
   "metadata": {},
   "outputs": [
    {
     "name": "stdout",
     "output_type": "stream",
     "text": [
      "Figure saved to /home/yangjiong/CategoryLearning/results/Nips_figures_final/Fig5B_correlation.svg\n"
     ]
    }
   ],
   "source": [
    "plots_dir = Path(project_root) / 'results' / 'Nips_figures_final'\n",
    "plot_fig5.plot_correlation(results=results,\n",
    "                             figsize=(6, 4.2),\n",
    "                             save_path=plots_dir / 'Fig5B_correlation.svg')"
   ]
  },
  {
   "cell_type": "markdown",
   "id": "8a455c4d",
   "metadata": {},
   "source": [
    "#### Fig S1C"
   ]
  },
  {
   "cell_type": "code",
   "execution_count": null,
   "id": "b8b2149f",
   "metadata": {},
   "outputs": [],
   "source": []
  },
  {
   "cell_type": "markdown",
   "id": "03b210df",
   "metadata": {},
   "source": [
    "#### Fig S2"
   ]
  },
  {
   "cell_type": "code",
   "execution_count": 64,
   "id": "de571761",
   "metadata": {},
   "outputs": [],
   "source": [
    "import src.nips_plot as nips_plot\n",
    "importlib.reload(nips_plot)\n",
    "from src.nips_plot import Fig1_Acc\n",
    "\n",
    "# 初始化处理器\n",
    "plot_fig1_acc = Fig1_Acc()"
   ]
  },
  {
   "cell_type": "code",
   "execution_count": null,
   "id": "206c1011",
   "metadata": {},
   "outputs": [
    {
     "name": "stdout",
     "output_type": "stream",
     "text": [
      "Figure saved to /home/yangjiong/CategoryLearning/results/Nips_figures_final/FigS2_accuracy_con3_1.svg\n"
     ]
    }
   ],
   "source": [
    "plots_dir = Path(project_root) / 'results' / 'Nips_figures_final'\n",
    "plot_fig1_acc.plot_accuracy(learning_data,\n",
    "                            subject_ids=[9,18,24],\n",
    "                            subfig=1,\n",
    "                            nrow=2,\n",
    "                            window_size=16,\n",
    "                            block_size=64,\n",
    "                            h_pad=8.8,\n",
    "                            color='#986E56',\n",
    "                            sub_text=[19,22,24],\n",
    "                            # max_trial=192,\n",
    "                            figsize=(4, 5.5),\n",
    "                            save_path=plots_dir / 'FigS2_accuracy_con3_1.svg')"
   ]
  },
  {
   "cell_type": "code",
   "execution_count": null,
   "id": "c6839eda",
   "metadata": {},
   "outputs": [
    {
     "name": "stdout",
     "output_type": "stream",
     "text": [
      "Figure saved to /home/yangjiong/CategoryLearning/results/Nips_figures_final/FigS2_accuracy_con3_2.svg\n"
     ]
    }
   ],
   "source": [
    "plot_fig1_acc.plot_accuracy(learning_data,\n",
    "                            subject_ids=[6,12,21,3,15],\n",
    "                            subfig=2,\n",
    "                            nrow=2,\n",
    "                            window_size=16,\n",
    "                            block_size=64,\n",
    "                            h_pad=8,\n",
    "                            color=['#875443','#3F2219'],\n",
    "                            sub_text=[18,20,23,17,21],\n",
    "                            figsize=(12, 5.5),\n",
    "                            save_path=plots_dir / 'FigS2_accuracy_con3_2.svg')"
   ]
  },
  {
   "cell_type": "code",
   "execution_count": 80,
   "id": "0c1440f0",
   "metadata": {},
   "outputs": [
    {
     "name": "stdout",
     "output_type": "stream",
     "text": [
      "Figure saved to /home/yangjiong/CategoryLearning/results/Nips_figures_final/FigS2_accuracy_con2_1.svg\n"
     ]
    }
   ],
   "source": [
    "plots_dir = Path(project_root) / 'results' / 'Nips_figures_final'\n",
    "plot_fig1_acc.plot_accuracy(learning_data,\n",
    "                            subject_ids=[8,23],\n",
    "                            subfig=1,\n",
    "                            nrow=2,\n",
    "                            window_size=16,\n",
    "                            block_size=64,\n",
    "                            xtick_interval=256,\n",
    "                            h_pad=8.8,\n",
    "                            color='#986E56',\n",
    "                            sub_text=[11,16],\n",
    "                            max_trial=512,\n",
    "                            figsize=(3, 5.5),\n",
    "                            save_path=plots_dir / 'FigS2_accuracy_con2_1.svg')"
   ]
  },
  {
   "cell_type": "code",
   "execution_count": 81,
   "id": "a269e3d3",
   "metadata": {},
   "outputs": [
    {
     "name": "stdout",
     "output_type": "stream",
     "text": [
      "Figure saved to /home/yangjiong/CategoryLearning/results/Nips_figures_final/FigS2_accuracy_con2_2.svg\n"
     ]
    }
   ],
   "source": [
    "plot_fig1_acc.plot_accuracy(learning_data,\n",
    "                            subject_ids=[5,11,14,2,17,20],\n",
    "                            subfig=2,\n",
    "                            nrow=2,\n",
    "                            window_size=16,\n",
    "                            block_size=64,\n",
    "                            xtick_interval=256,\n",
    "                            h_pad=8,\n",
    "                            color=['#875443','#3F2219'],\n",
    "                            sub_text=[10,12,13,9,14,15],\n",
    "                            figsize=(15, 5.5),\n",
    "                            save_path=plots_dir / 'FigS2_accuracy_con2_2.svg')"
   ]
  },
  {
   "cell_type": "markdown",
   "id": "2fe892ed",
   "metadata": {},
   "source": [
    "#### Fig S3"
   ]
  },
  {
   "cell_type": "code",
   "execution_count": 5,
   "id": "bd5d4918",
   "metadata": {},
   "outputs": [],
   "source": [
    "import src.nips_plot as nips_plot\n",
    "importlib.reload(nips_plot)\n",
    "from src.nips_plot import FigS3\n",
    "\n",
    "# 初始化处理器\n",
    "plot_figs3 = FigS3()"
   ]
  },
  {
   "cell_type": "code",
   "execution_count": 6,
   "id": "fdc99cac",
   "metadata": {},
   "outputs": [],
   "source": [
    "subject_ids = [1,4,7,10,13,19,22,16,3,6,9,12,15,18,21,24,2,5,8,11,14,17,20,23]\n",
    "subject_labels = [1,2,3,4,5,6,7,8,17,18,19,20,21,22,23,24,9,10,11,12,13,14,15,16]"
   ]
  },
  {
   "cell_type": "code",
   "execution_count": 105,
   "id": "6db08247",
   "metadata": {},
   "outputs": [],
   "source": [
    "oral_hypo_hits = joblib.load(Path(project_root) / 'results' / 'Bayesian_recon' / 'oral_hypo_hits.joblib')"
   ]
  },
  {
   "cell_type": "code",
   "execution_count": 125,
   "id": "6160ba52",
   "metadata": {},
   "outputs": [
    {
     "name": "stdout",
     "output_type": "stream",
     "text": [
      "Figure saved to /home/yangjiong/CategoryLearning/results/Nips_figures_final/Fig_acc_M0.svg\n",
      "Figure saved to /home/yangjiong/CategoryLearning/results/Nips_figures_final/Fig_acc_M1.svg\n",
      "Figure saved to /home/yangjiong/CategoryLearning/results/Nips_figures_final/Fig_acc_M2.svg\n",
      "Figure saved to /home/yangjiong/CategoryLearning/results/Nips_figures_final/Fig_acc_M3.svg\n",
      "Figure saved to /home/yangjiong/CategoryLearning/results/Nips_figures_final/Fig_acc_M4.svg\n",
      "Figure saved to /home/yangjiong/CategoryLearning/results/Nips_figures_final/Fig_acc_M5.svg\n",
      "Figure saved to /home/yangjiong/CategoryLearning/results/Nips_figures_final/Fig_acc_M6.svg\n",
      "Figure saved to /home/yangjiong/CategoryLearning/results/Nips_figures_final/Fig_acc_M7.svg\n"
     ]
    }
   ],
   "source": [
    "plots_dir = Path(project_root) / 'results' / 'Nips_figures_final'\n",
    "for model in ['M0', 'M1', 'M2', 'M3', 'M4', 'M5', 'M6', 'M7']:\n",
    "    results = globals()[f\"{model}_predict_results\"]\n",
    "    plot_figs3.plot_acc_comparison_subs(results=results,\n",
    "                                        subject_ids=subject_ids,\n",
    "                                        nrow=6,\n",
    "                                        color='#B38665',\n",
    "                                        color_true='#A6A6A6',\n",
    "                                        xtick_interval=128,\n",
    "                                        subject_labels=subject_labels,\n",
    "                                        figsize=(17, 10),\n",
    "                                        save_path=plots_dir /\n",
    "                                        f'Fig_acc_{model}.svg')"
   ]
  },
  {
   "cell_type": "code",
   "execution_count": 126,
   "id": "c046ec40",
   "metadata": {},
   "outputs": [
    {
     "name": "stdout",
     "output_type": "stream",
     "text": [
      "Figure saved to /home/yangjiong/CategoryLearning/results/Nips_figures_final/Fig_k_M0.svg\n",
      "Figure saved to /home/yangjiong/CategoryLearning/results/Nips_figures_final/Fig_k_M1.svg\n",
      "Figure saved to /home/yangjiong/CategoryLearning/results/Nips_figures_final/Fig_k_M2.svg\n",
      "Figure saved to /home/yangjiong/CategoryLearning/results/Nips_figures_final/Fig_k_M3.svg\n",
      "Figure saved to /home/yangjiong/CategoryLearning/results/Nips_figures_final/Fig_k_M4.svg\n",
      "Figure saved to /home/yangjiong/CategoryLearning/results/Nips_figures_final/Fig_k_M5.svg\n",
      "Figure saved to /home/yangjiong/CategoryLearning/results/Nips_figures_final/Fig_k_M6.svg\n",
      "Figure saved to /home/yangjiong/CategoryLearning/results/Nips_figures_final/Fig_k_M7.svg\n"
     ]
    }
   ],
   "source": [
    "plots_dir = Path(project_root) / 'results' / 'Nips_figures_final'\n",
    "for model in ['M0', 'M1', 'M2', 'M3', 'M4', 'M5', 'M6', 'M7']:\n",
    "    results = globals()[f\"{model}_results\"]\n",
    "    plot_figs3.plot_k_comparison_subs(oral_hypo_hits,\n",
    "                             results=results,\n",
    "                             subject_ids=subject_ids,\n",
    "                             nrow=6,\n",
    "                             color='#20978B',\n",
    "                             color_true='#A6A6A6',\n",
    "                             xtick_interval=128,\n",
    "                             subject_labels=subject_labels,\n",
    "                             figsize=(17, 10),\n",
    "                             save_path=plots_dir /\n",
    "                             f'Fig_k_{model}.svg')"
   ]
  },
  {
   "cell_type": "code",
   "execution_count": 3,
   "id": "35fa63e4",
   "metadata": {},
   "outputs": [],
   "source": [
    "result_path = Path(project_root) / 'results' / 'Finetune'\n",
    "M7_results = joblib.load(result_path / 'M7_PMH_5_1000.joblib')"
   ]
  },
  {
   "cell_type": "code",
   "execution_count": 10,
   "id": "8d5ef213",
   "metadata": {},
   "outputs": [
    {
     "name": "stdout",
     "output_type": "stream",
     "text": [
      "Figure saved to /home/yangjiong/CategoryLearning/results/Nips_figures_final/Fig_grid_M7.svg\n"
     ]
    }
   ],
   "source": [
    "plots_dir = Path(project_root) / 'results' / 'Nips_figures_final'\n",
    "for model in ['M7']:\n",
    "    results = globals()[f\"{model}_results\"]\n",
    "    plot_figs3.plot_grid_subs(results=results,\n",
    "                             subject_ids=subject_ids,\n",
    "                             nrow=6,\n",
    "                             subject_labels=subject_labels,\n",
    "                             figsize=(17, 15),\n",
    "                             save_path=plots_dir /\n",
    "                             f'Fig_grid_{model}.svg')"
   ]
  },
  {
   "cell_type": "code",
   "execution_count": 12,
   "id": "bb097030",
   "metadata": {},
   "outputs": [],
   "source": [
    "result_path = Path(project_root) / 'results' / 'Model_results'\n",
    "M7_results_v2 = joblib.load(result_path / 'M7_PMH.joblib')\n",
    "M7_results[17] = M7_results_v2[17]"
   ]
  },
  {
   "cell_type": "code",
   "execution_count": 17,
   "id": "8bc7f915",
   "metadata": {},
   "outputs": [
    {
     "name": "stdout",
     "output_type": "stream",
     "text": [
      "Figure saved to /home/yangjiong/CategoryLearning/results/Nips_figures_final/Fig_amount_M7.svg\n"
     ]
    }
   ],
   "source": [
    "plots_dir = Path(project_root) / 'results' / 'Nips_figures_final'\n",
    "for model in ['M7']:\n",
    "    results = globals()[f\"{model}_results\"]\n",
    "    plot_figs3.plot_amount_subs(results=results,\n",
    "                             subject_ids=subject_ids,\n",
    "                             nrow=6,\n",
    "                             subject_labels=subject_labels,\n",
    "                             color_1='#C9AAE6',\n",
    "                             color_2='#7B3BB7',\n",
    "                             label_1='Exploitation',\n",
    "                             label_2='Exploration',\n",
    "                             figsize=(17, 10),\n",
    "                             save_path=plots_dir /\n",
    "                             f'Fig_amount_{model}.svg')"
   ]
  }
 ],
 "metadata": {
  "kernelspec": {
   "display_name": "bayes",
   "language": "python",
   "name": "python3"
  },
  "language_info": {
   "codemirror_mode": {
    "name": "ipython",
    "version": 3
   },
   "file_extension": ".py",
   "mimetype": "text/x-python",
   "name": "python",
   "nbconvert_exporter": "python",
   "pygments_lexer": "ipython3",
   "version": "3.10.16"
  }
 },
 "nbformat": 4,
 "nbformat_minor": 5
}
