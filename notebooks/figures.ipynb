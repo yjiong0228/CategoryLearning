{
 "cells": [
  {
   "cell_type": "code",
   "execution_count": null,
   "metadata": {},
   "outputs": [],
   "source": [
    "import os\n",
    "import sys\n",
    "import importlib\n",
    "from pathlib import Path\n",
    "import pandas as pd\n",
    "import joblib\n",
    "import matplotlib.pyplot as plt\n",
    "\n",
    "from itertools import product\n",
    "from collections import defaultdict"
   ]
  },
  {
   "cell_type": "code",
   "execution_count": 2,
   "metadata": {},
   "outputs": [],
   "source": [
    "# 获取项目根目录\n",
    "project_root = Path(os.getcwd()).parent\n",
    "sys.path.append(str(project_root))\n",
    "\n",
    "# 导入数据\n",
    "processed_path = Path(project_root) / 'data' / 'processed'\n",
    "learning_data = pd.read_csv(processed_path / 'Task2_processed.csv')"
   ]
  },
  {
   "cell_type": "code",
   "execution_count": null,
   "metadata": {},
   "outputs": [],
   "source": [
    "# 导入模型分析\n",
    "import src.Bayesian_new.utils.plot_utils as plot_utils\n",
    "importlib.reload(plot_utils)\n",
    "\n",
    "import src.Bayesian_new.utils.model_evaluation as model_eval\n",
    "importlib.reload(model_eval)\n",
    "from src.Bayesian_new.utils.model_evaluation import ModelEval\n",
    "\n",
    "model_eval = ModelEval()"
   ]
  },
  {
   "cell_type": "markdown",
   "metadata": {},
   "source": [
    "### 1. accuracy"
   ]
  },
  {
   "cell_type": "code",
   "execution_count": 3,
   "metadata": {},
   "outputs": [],
   "source": [
    "# 生成每个被试内部的试次编号\n",
    "learning_data['trial_in_sub'] = learning_data.groupby('iSub').cumcount() + 1\n",
    "\n",
    "# 计算滑动窗口正确率\n",
    "learning_data['rolling_accuracy'] = learning_data.groupby('iSub')['feedback'].transform(\n",
    "    lambda x: x.rolling(16, min_periods=16).mean()\n",
    ")"
   ]
  },
  {
   "cell_type": "code",
   "execution_count": null,
   "metadata": {},
   "outputs": [],
   "source": [
    "# Define the color palette if not already defined\n",
    "color_palette = ['#1f77b4', '#ff7f0e', '#2ca02c', '#d62728',\n",
    "                 '#9467bd', '#8c564b', '#7f7f7f', '#e377c2']\n",
    "\n",
    "for cond in sorted(learning_data['condition'].unique()):\n",
    "    cond_data = learning_data[learning_data['condition'] == cond]\n",
    "    subjects = cond_data['iSub'].unique()\n",
    "\n",
    "    if len(subjects) == 0:\n",
    "        continue\n",
    "\n",
    "    # 创建子图\n",
    "    n_cols = 4\n",
    "    n_subs = len(subjects)\n",
    "    n_rows = (n_subs + n_cols - 1) // n_cols  # 计算行数\n",
    "    fig, axs = plt.subplots(n_rows,\n",
    "                            n_cols,\n",
    "                            figsize=(25, 5 * n_rows),\n",
    "                            facecolor='none',\n",
    "                            squeeze=False)\n",
    "\n",
    "    # 增加子图之间的间距\n",
    "    fig.subplots_adjust(hspace=0.5, wspace=0.5)  # 设置纵向和横向间距\n",
    "\n",
    "    for idx, sub in enumerate(subjects):\n",
    "        row = idx // n_cols\n",
    "        col = idx % n_cols\n",
    "        ax = axs[row, col]\n",
    "\n",
    "        sub_df = cond_data[cond_data['iSub'] == sub]\n",
    "        valid_data = sub_df.dropna(subset=['rolling_accuracy'])\n",
    "\n",
    "        if valid_data.empty:\n",
    "            ax.text(0.5, 0.5, 'No Valid Data', ha='center', va='center')\n",
    "            ax.axis('off')\n",
    "            continue\n",
    "\n",
    "        # 使用循环颜色\n",
    "        color = color_palette[idx % len(color_palette)]\n",
    "\n",
    "        # 绘制每个被试的曲线\n",
    "        ax.plot(valid_data['trial_in_sub'],\n",
    "                valid_data['rolling_accuracy'],\n",
    "                label=f'Subject {sub}',\n",
    "                color=color,\n",
    "                linewidth=3,\n",
    "                alpha=1)\n",
    "\n",
    "        # 绘制分割线\n",
    "        max_trial = cond_data['trial_in_sub'].max()\n",
    "        for x in range(64, max_trial + 1, 64):\n",
    "            ax.axvline(x=x, color='grey', alpha=0.3, linestyle='dashed', linewidth=1)\n",
    "\n",
    "        # 设置坐标轴标题和标签\n",
    "        if col == 0:  # 仅保留最左侧子图的纵坐标标签\n",
    "            ax.set_yticks([i / 5 for i in range(6)])\n",
    "            ax.set_yticklabels([f\"{i / 5:.1f}\" for i in range(6)], fontsize=15)\n",
    "        else:\n",
    "            ax.set_yticks([])\n",
    "            ax.set_ylabel(None)\n",
    "\n",
    "        if row == n_rows - 1:  # 仅保留最后一行子图的横坐标标签\n",
    "            if cond == 2:\n",
    "                ax.set_xticks(range(0, max_trial + 1, 192))\n",
    "                ax.set_xticklabels(range(0, max_trial + 1, 192), fontsize=15)\n",
    "            else:\n",
    "                ax.set_xticks(range(0, max_trial + 1, 64))\n",
    "                ax.set_xticklabels(range(0, max_trial + 1, 64), fontsize=15)\n",
    "        else:\n",
    "            ax.set_xticks([])\n",
    "            ax.set_xlabel(None)\n",
    "\n",
    "        # 去掉网格和多余的坐标轴\n",
    "        ax.grid(False)\n",
    "        ax.spines['top'].set_visible(False)\n",
    "        ax.spines['right'].set_visible(False)\n",
    "        ax.spines['left'].set_linewidth(2.0)  # 加粗纵坐标轴线\n",
    "        ax.spines['bottom'].set_linewidth(2.0)  # 加粗横坐标轴线\n",
    "        ax.tick_params(width=2.0)  # 加粗刻度线\n",
    "        \n",
    "        # 在右下角添加被试编号（按顺序编号）\n",
    "        ax.text(0.95,\n",
    "            0.05,\n",
    "            f\"S{idx + 1}\",\n",
    "            transform=ax.transAxes,\n",
    "            fontsize=30,\n",
    "            ha='right',\n",
    "            va='bottom',\n",
    "            color='black')\n",
    "            \n",
    "        # 设置图形内部背景透明\n",
    "        ax.set_facecolor('none')\n",
    "\n",
    "        # 为整张图设置横坐标标题\n",
    "        fig.text(0.5, -0.04, 'Trial', ha='center', fontsize=25)\n",
    "        # 为整张图设置纵坐标标题\n",
    "        fig.text(-0.02, 0.5, 'Accuracy', va='center', rotation='vertical', fontsize=25)\n",
    "\n",
    "\n",
    "    # 隐藏多余的子图\n",
    "    for idx in range(n_subs, n_rows * n_cols):\n",
    "        axs.flatten()[idx].axis('off')\n",
    "\n",
    "    plt.tight_layout()\n",
    "    plt.show()\n"
   ]
  },
  {
   "cell_type": "markdown",
   "metadata": {},
   "source": [
    "### 2. oral"
   ]
  },
  {
   "cell_type": "code",
   "execution_count": null,
   "metadata": {},
   "outputs": [],
   "source": [
    "# 导入模型\n",
    "from src.Bayesian_new import *\n",
    "\n",
    "import src.Bayesian_new.problems.model_v1 as model\n",
    "importlib.reload(model)\n",
    "from src.Bayesian_new.problems.model_v1 import SingleRationalModel\n",
    "\n",
    "import src.Bayesian_new.problems.config as config\n",
    "importlib.reload(config)\n",
    "from src.Bayesian_new.problems.config import config_base"
   ]
  },
  {
   "cell_type": "code",
   "execution_count": null,
   "metadata": {},
   "outputs": [],
   "source": [
    "limited_hypos_list = {}\n",
    "\n",
    "for i, (iSub, subject_data) in enumerate(learning_data.groupby('iSub')):\n",
    "    condition = subject_data['condition'].iloc[0]\n",
    "    model_base = SingleRationalModel(config_base, condition=condition)\n",
    "    s_data = (subject_data[[\"feature1\", \"feature2\", \"feature3\", \"feature4\"]].values,\n",
    "            subject_data[\"choice\"].values,\n",
    "            subject_data[\"feedback\"].values)\n",
    "\n",
    "    # 口头汇报限制假设集\n",
    "    data_1 = (subject_data[[\"feature1_oral\", \"feature2_oral\", \"feature3_oral\", \"feature4_oral\"]].values,\n",
    "            subject_data[\"choice\"].values)\n",
    "    limited_hypos_list[iSub] = model_base.oral_generate_hypos(data_1)"
   ]
  },
  {
   "cell_type": "code",
   "execution_count": null,
   "metadata": {},
   "outputs": [],
   "source": [
    "oral_hypo_list = {}\n",
    "\n",
    "for iSub, hypos in limited_hypos_list.items():\n",
    "    condition = learning_data[learning_data['iSub'] ==\n",
    "                              iSub]['condition'].iloc[0]\n",
    "    target_value = 0 if condition == 1 else 42\n",
    "\n",
    "    hits = []  # 用于存储每个 trial 的 hit 值\n",
    "    for trial_hypos in hypos:\n",
    "        hit = 1 if trial_hypos[0] == target_value else 0\n",
    "        hits.append(hit)  # 将 hit 值添加到列表中\n",
    "\n",
    "    # 计算滑动平均\n",
    "    window_size = 16\n",
    "    hits_avg = pd.Series(hits).rolling(window=window_size, min_periods=window_size).mean().tolist()\n",
    "\n",
    "    oral_hypo_list[iSub] = {'iSub': iSub, 'condition': condition, 'hit': hits_avg}"
   ]
  },
  {
   "cell_type": "code",
   "execution_count": null,
   "metadata": {},
   "outputs": [],
   "source": [
    "plot_path = Path(project_root) / 'results' / 'Figures_sub'\n",
    "model_eval.plot_oral_hypo_list(oral_hypo_list, plot_path/'M_base', 19)"
   ]
  },
  {
   "cell_type": "markdown",
   "metadata": {},
   "source": [
    "### 3. model"
   ]
  },
  {
   "cell_type": "code",
   "execution_count": null,
   "metadata": {},
   "outputs": [],
   "source": [
    "# 加载拟合结果\n",
    "result_path = Path(project_root) / 'results' / 'Bayesian_new'\n",
    "base_results = joblib.load(result_path / 'M_Base_fitting_results.joblib')\n",
    "forget_results = joblib.load(result_path / 'M_Fgt_fitting_results_400.joblib')\n",
    "c1_results = joblib.load(result_path / 'M_Fgt_c1_fitting_results.joblib')"
   ]
  },
  {
   "cell_type": "code",
   "execution_count": null,
   "metadata": {},
   "outputs": [],
   "source": [
    "import src.Bayesian_new.problems.model as model\n",
    "importlib.reload(model)\n",
    "from src.Bayesian_new.problems.model import SingleRationalModel\n",
    "\n",
    "import src.Bayesian_new.problems.config as config\n",
    "importlib.reload(config)\n",
    "from src.Bayesian_new.problems.config import config_base"
   ]
  },
  {
   "cell_type": "code",
   "execution_count": null,
   "metadata": {},
   "outputs": [],
   "source": [
    "# 对比模型预测和实际数据\n",
    "base_predict_results = {}\n",
    "\n",
    "for i, (iSub, subject_data) in enumerate(learning_data.groupby('iSub')):\n",
    "    condition = subject_data['condition'].iloc[0]\n",
    "    model_base = SingleRationalModel(config_base, condition=condition)\n",
    "    s_data = (subject_data[[\"feature1\", \"feature2\", \"feature3\", \"feature4\"]].values,\n",
    "            subject_data[\"choice\"].values,\n",
    "            subject_data[\"feedback\"].values, \n",
    "            subject_data[\"category\"].values)\n",
    "\n",
    "    sub_results = base_results[iSub]\n",
    "    step_results = sub_results['step_results']\n",
    "    results = model_base.predict_choice(s_data, step_results, use_cached_dist=False, window_size=16)\n",
    "\n",
    "    base_predict_results[iSub] = {\n",
    "        'condition': condition,\n",
    "        'true_acc': results['true_acc'],\n",
    "        'pred_acc': results['pred_acc'],\n",
    "        'sliding_true_acc': results['sliding_true_acc'],\n",
    "        'sliding_pred_acc': results['sliding_pred_acc'],\n",
    "        'sliding_pred_acc_std': results['sliding_pred_acc_std']\n",
    "    }"
   ]
  },
  {
   "cell_type": "code",
   "execution_count": null,
   "metadata": {},
   "outputs": [],
   "source": [
    "plot_path = Path(project_root) / 'results' / 'Figures'\n",
    "# 绘制最优参数变化图\n",
    "model_eval.plot_params_over_trials(base_results, 'best_beta', plot_path/'M_base')\n",
    "\n",
    "# 绘制k后验概率变化图\n",
    "model_eval.plot_posterior_probabilities(base_results, False, plot_path/'M_base')\n",
    "\n",
    "# 绘制模型预测和实际数据对比图\n",
    "model_eval.plot_accuracy_comparison(base_results, plot_path / 'M_base')\n",
    "\n",
    "# 绘制累积后验概率图\n",
    "model_eval.plot_hypo_posterior_sums(base_results, limited_hypos_list, plot_path/'M_base')"
   ]
  },
  {
   "cell_type": "code",
   "execution_count": null,
   "metadata": {},
   "outputs": [],
   "source": [
    "plot_path = Path(project_root) / 'results' / 'Figures_sub'\n",
    "# 绘制最优参数变化图\n",
    "model_eval.plot_params_over_trials(base_results, 'best_beta', plot_path/'M_base', 5)\n",
    "\n",
    "# 绘制k后验概率变化图\n",
    "model_eval.plot_posterior_probabilities(base_results, False, plot_path/'M_base', 5)\n",
    "\n",
    "# 绘制模型预测和实际数据对比图\n",
    "model_eval.plot_accuracy_comparison(base_predict_results, plot_path/'M_base', 10)\n",
    "\n",
    "# 绘制累积后验概率图\n",
    "model_eval.plot_hypo_posterior_sums(base_results, limited_hypos_list, plot_path/'M_base', 12)"
   ]
  },
  {
   "cell_type": "code",
   "execution_count": null,
   "metadata": {},
   "outputs": [],
   "source": [
    "import src.Bayesian_new.problems.forget as forget\n",
    "importlib.reload(forget)\n",
    "from src.Bayesian_new.problems.forget import ForgetModel\n",
    "\n",
    "import src.Bayesian_new.problems.config as config\n",
    "importlib.reload(config)\n",
    "from src.Bayesian_new.problems.config import config_fgt"
   ]
  },
  {
   "cell_type": "code",
   "execution_count": null,
   "metadata": {},
   "outputs": [],
   "source": [
    "# 对比模型预测和实际数据\n",
    "forget_predict_results = {}\n",
    "\n",
    "for i, (iSub, subject_data) in enumerate(learning_data.groupby('iSub')):\n",
    "    condition = subject_data['condition'].iloc[0]\n",
    "    model_fgt = ForgetModel(config_fgt, condition=condition)\n",
    "    s_data = (subject_data[[\"feature1\", \"feature2\", \"feature3\", \"feature4\"]].values,\n",
    "            subject_data[\"choice\"].values,\n",
    "            subject_data[\"feedback\"].values, \n",
    "            subject_data[\"category\"].values)\n",
    "\n",
    "    sub_results = forget_results[iSub]\n",
    "    best_step_results = sub_results['step_results']\n",
    "    results = model_fgt.predict_choice(s_data, best_step_results, use_cached_dist=False, window_size=16)\n",
    "\n",
    "    forget_predict_results[iSub] = {\n",
    "        'condition': condition,\n",
    "        'true_acc': results['true_acc'],\n",
    "        'pred_acc': results['pred_acc'],\n",
    "        'sliding_true_acc': results['sliding_true_acc'],\n",
    "        'sliding_pred_acc': results['sliding_pred_acc'],\n",
    "        'sliding_pred_acc_std': results['sliding_pred_acc_std']\n",
    "    }"
   ]
  },
  {
   "cell_type": "code",
   "execution_count": null,
   "metadata": {},
   "outputs": [],
   "source": [
    "plot_path = Path(project_root) / 'results' / 'Figures'\n",
    "# 绘制最优参数变化图\n",
    "model_eval.plot_params_over_trials(forget_results, 'best_beta', plot_path/'M_fgt')\n",
    "\n",
    "# 绘制k后验概率变化图\n",
    "model_eval.plot_posterior_probabilities(forget_results, False, plot_path/'M_fgt')\n",
    "\n",
    "# 绘制模型预测和实际数据对比图\n",
    "model_eval.plot_accuracy_comparison(forget_predict_results, plot_path / 'M_fgt')\n",
    "\n",
    "# 绘制error grid图\n",
    "model_eval.plot_error_grids(forget_results, plot_path / 'M_fgt')"
   ]
  },
  {
   "cell_type": "code",
   "execution_count": null,
   "metadata": {},
   "outputs": [],
   "source": [
    "plot_path = Path(project_root) / 'results' / 'Figures_sub'\n",
    "# 绘制最优参数变化图\n",
    "model_eval.plot_params_over_trials(forget_results, 'best_beta', plot_path/'M_fgt', 5)\n",
    "\n",
    "# 绘制k后验概率变化图\n",
    "model_eval.plot_posterior_probabilities(forget_results, False, plot_path/'M_fgt', 5)\n",
    "\n",
    "# 绘制模型预测和实际数据对比图\n",
    "model_eval.plot_accuracy_comparison(forget_predict_results, plot_path/'M_fgt', 10)"
   ]
  },
  {
   "cell_type": "code",
   "execution_count": null,
   "metadata": {},
   "outputs": [],
   "source": [
    "# 对比模型预测和实际数据\n",
    "c1_predict_results = {}\n",
    "\n",
    "for i, (iSub, subject_data) in enumerate(learning_data.groupby('iSub')):\n",
    "    # if iSub != 11:\n",
    "    #     continue\n",
    "    condition = subject_data['condition'].iloc[0]\n",
    "    model_fgt = ForgetModel(config_fgt, condition=condition)\n",
    "    s_data = (subject_data[[\"feature1\", \"feature2\", \"feature3\", \"feature4\"]].values,\n",
    "            subject_data[\"choice\"].values,\n",
    "            subject_data[\"feedback\"].values,\n",
    "            subject_data[\"category\"].values)\n",
    "\n",
    "    sub_results = c1_results[iSub]\n",
    "    best_step_results = sub_results['step_results']\n",
    "    results = model_fgt.predict_choice(s_data, best_step_results, use_cached_dist=False, window_size=16)\n",
    "\n",
    "    c1_predict_results[iSub] = {\n",
    "        'condition': condition,\n",
    "        'true_acc': results['true_acc'],\n",
    "        'pred_acc': results['pred_acc'],\n",
    "        'sliding_true_acc': results['sliding_true_acc'],\n",
    "        'sliding_pred_acc': results['sliding_pred_acc'],\n",
    "        'sliding_pred_acc_std': results['sliding_pred_acc_std']\n",
    "    }"
   ]
  },
  {
   "cell_type": "code",
   "execution_count": null,
   "metadata": {},
   "outputs": [],
   "source": [
    "plot_path = Path(project_root) / 'results' / 'Figures'\n",
    "# 绘制最优参数变化图\n",
    "model_eval.plot_params_over_trials(c1_results, 'best_beta', plot_path/'M_fgt_c1')\n",
    "\n",
    "# 绘制k后验概率变化图\n",
    "model_eval.plot_posterior_probabilities(c1_results, True, plot_path / 'M_fgt_c1')\n",
    "\n",
    "# 绘制模型预测和实际数据对比图\n",
    "model_eval.plot_accuracy_comparison(c1_predict_results, plot_path / 'M_fgt_c1')\n",
    "\n",
    "# 绘制error grid图\n",
    "model_eval.plot_error_grids(c1_results, plot_path/'M_fgt_c1')"
   ]
  },
  {
   "cell_type": "code",
   "execution_count": null,
   "metadata": {},
   "outputs": [],
   "source": [
    "plot_path = Path(project_root) / 'results' / 'Figures_sub'\n",
    "# 绘制最优参数变化图\n",
    "model_eval.plot_params_over_trials(c1_results, 'best_beta', plot_path/'M_fgt_c1', 5)\n",
    "\n",
    "# 绘制k后验概率变化图\n",
    "model_eval.plot_posterior_probabilities(c1_results, True, plot_path/'M_fgt_c1', 10)\n",
    "\n",
    "# 绘制模型预测和实际数据对比图\n",
    "model_eval.plot_accuracy_comparison(c1_predict_results, plot_path/'M_fgt_c1', 10)"
   ]
  },
  {
   "cell_type": "code",
   "execution_count": null,
   "metadata": {},
   "outputs": [],
   "source": [
    "# 绘制累积后验概率图\n",
    "model_eval.plot_hypo_posterior_sums(base_results, forget_results, c1_results, limited_hypos_list, plot_path/'M_base_fgt')"
   ]
  }
 ],
 "metadata": {
  "kernelspec": {
   "display_name": "bayes",
   "language": "python",
   "name": "python3"
  },
  "language_info": {
   "codemirror_mode": {
    "name": "ipython",
    "version": 3
   },
   "file_extension": ".py",
   "mimetype": "text/x-python",
   "name": "python",
   "nbconvert_exporter": "python",
   "pygments_lexer": "ipython3",
   "version": "3.10.16"
  }
 },
 "nbformat": 4,
 "nbformat_minor": 2
}
