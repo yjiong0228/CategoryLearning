{
 "cells": [
  {
   "cell_type": "code",
   "execution_count": 1,
   "id": "0471c4c0",
   "metadata": {},
   "outputs": [],
   "source": [
    "%load_ext autoreload\n",
    "%autoreload 2\n",
    "import os\n",
    "import sys\n",
    "from pathlib import Path\n",
    "import joblib\n",
    "\n",
    "project_root = Path.cwd().parent\n",
    "sys.path.insert(0, str(project_root))"
   ]
  },
  {
   "cell_type": "code",
   "execution_count": 4,
   "id": "83fc0673",
   "metadata": {},
   "outputs": [],
   "source": [
    "from src.Bayesian_state import *\n",
    "from src.Bayesian_state.problems.config import config_fgt\n",
    "from src.Bayesian_state.problems import *\n",
    "# from src.Bayesian_state.utils.optimizer import Optimizer, ConstantDict\n",
    "# from src.Bayesian_state.utils.model_evaluation import ModelEval"
   ]
  },
  {
   "cell_type": "code",
   "execution_count": 22,
   "id": "9855939b",
   "metadata": {},
   "outputs": [],
   "source": [
    "processed_path = Path(project_root) / 'data' / 'processed'\n",
    "learning_data = pd.read_csv(processed_path / 'Task2_processed.csv')\n",
    "\n",
    "subject_id = 1\n",
    "subject_data = learning_data[learning_data[\"iSub\"] == subject_id]\n",
    "condition = subject_data[\"condition\"].iloc[0]\n",
    "s_data = (\n",
    "    subject_data[[\"feature1\", \"feature2\", \"feature3\", \"feature4\"]].values,\n",
    "    subject_data[\"choice\"].values,\n",
    "    subject_data[\"feedback\"].values\n",
    ")"
   ]
  },
  {
   "cell_type": "code",
   "execution_count": 26,
   "id": "bc34f4b3",
   "metadata": {},
   "outputs": [],
   "source": [
    "beta_range = (1, 30)\n",
    "beta_resolution = 5\n",
    "beta_grid = np.linspace(beta_range[0], beta_range[1], beta_resolution)"
   ]
  },
  {
   "cell_type": "code",
   "execution_count": null,
   "id": "2764f8fc",
   "metadata": {},
   "outputs": [],
   "source": [
    "from src.Bayesian_state.problems import StandardModel\n",
    "\n",
    "module_configs = {} # base model\n",
    "model = StandardModel(config_fgt, module_configs, condition=condition)"
   ]
  },
  {
   "cell_type": "code",
   "execution_count": 29,
   "id": "ab45e8fe",
   "metadata": {},
   "outputs": [],
   "source": [
    "results_state = model.fit_step_by_step(s_data, beta_grid, slicing=\"last\")"
   ]
  },
  {
   "cell_type": "code",
   "execution_count": 30,
   "id": "486de951",
   "metadata": {},
   "outputs": [],
   "source": [
    "results_prev = model.fit_step_by_step(s_data, beta_grid, slicing=\"all\")"
   ]
  }
 ],
 "metadata": {
  "kernelspec": {
   "display_name": "bayes",
   "language": "python",
   "name": "python3"
  },
  "language_info": {
   "codemirror_mode": {
    "name": "ipython",
    "version": 3
   },
   "file_extension": ".py",
   "mimetype": "text/x-python",
   "name": "python",
   "nbconvert_exporter": "python",
   "pygments_lexer": "ipython3",
   "version": "3.10.14"
  }
 },
 "nbformat": 4,
 "nbformat_minor": 5
}
