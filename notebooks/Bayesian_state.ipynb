{
 "cells": [
  {
   "cell_type": "code",
   "execution_count": 1,
   "id": "0471c4c0",
   "metadata": {},
   "outputs": [],
   "source": [
    "%load_ext autoreload\n",
    "%autoreload 2\n",
    "import os\n",
    "import sys\n",
    "from pathlib import Path\n",
    "import joblib\n",
    "\n",
    "project_root = Path.cwd().parent\n",
    "sys.path.insert(0, str(project_root))"
   ]
  },
  {
   "cell_type": "code",
   "execution_count": 2,
   "id": "83fc0673",
   "metadata": {},
   "outputs": [
    {
     "name": "stderr",
     "output_type": "stream",
     "text": [
      "INFO:cat-learning:logger is running normally.\n"
     ]
    },
    {
     "name": "stdout",
     "output_type": "stream",
     "text": [
      "\u001b[1m\u001b[3m\u001b[4m\u001b[41md:\\Research\\nips_reviewing\\CategoryLearning\\StateBased\\CategoryLearning\\logs\\Run_20251011_172759.log\u001b[0m\n",
      "\u001b[1m\u001b[3m\u001b[4m\u001b[42m{'default_model': {'modules': {}, 'agenda': ['__self__']}, 'pmh_model': {'modules': {'memory': {'class': 'BaseMemory', 'kwargs': {}}, 'likelihood': {'class': 'BaseLikelihood', 'kwargs': {}}, 'perception': {'class': 'BasePerception', 'kwargs': {}}, 'hypotheses': {'class': 'BaseHypotheses', 'kwargs': {}}}, 'agenda': ['perception', 'likelihood', 'hypotheses', 'memory']}}\u001b[0m\n"
     ]
    }
   ],
   "source": [
    "from src.Bayesian_state import *\n",
    "from src.Bayesian_state.problems.config import config_fgt\n",
    "from src.Bayesian_state.problems import *\n",
    "# from src.Bayesian_state.utils.optimizer import Optimizer, ConstantDict\n",
    "# from src.Bayesian_state.utils.model_evaluation import ModelEval"
   ]
  },
  {
   "cell_type": "code",
   "execution_count": 3,
   "id": "9855939b",
   "metadata": {},
   "outputs": [],
   "source": [
    "processed_path = Path(project_root) / 'data' / 'processed'\n",
    "learning_data = pd.read_csv(processed_path / 'Task2_processed.csv')\n",
    "\n",
    "subject_id = 1\n",
    "subject_data = learning_data[learning_data[\"iSub\"] == subject_id]\n",
    "condition = subject_data[\"condition\"].iloc[0]\n",
    "s_data = (\n",
    "    subject_data[[\"feature1\", \"feature2\", \"feature3\", \"feature4\"]].values,\n",
    "    subject_data[\"choice\"].values,\n",
    "    subject_data[\"feedback\"].values\n",
    ")"
   ]
  },
  {
   "cell_type": "code",
   "execution_count": 4,
   "id": "bc34f4b3",
   "metadata": {},
   "outputs": [],
   "source": [
    "beta_range = (1, 30)\n",
    "beta_resolution = 5\n",
    "beta_grid = np.linspace(beta_range[0], beta_range[1], beta_resolution)"
   ]
  },
  {
   "cell_type": "code",
   "execution_count": 5,
   "id": "2764f8fc",
   "metadata": {},
   "outputs": [
    {
     "name": "stdout",
     "output_type": "stream",
     "text": [
      "{'default_model': {'agenda': ['__self__'], 'modules': {}},\n",
      " 'pmh_model': {'agenda': ['perception', 'likelihood', 'hypotheses', 'memory'],\n",
      "               'modules': {'hypotheses': {'class': 'BaseHypotheses',\n",
      "                                          'kwargs': {}},\n",
      "                           'likelihood': {'class': 'BaseLikelihood',\n",
      "                                          'kwargs': {}},\n",
      "                           'memory': {'class': 'BaseMemory', 'kwargs': {}},\n",
      "                           'perception': {'class': 'BasePerception',\n",
      "                                          'kwargs': {}}}}}\n",
      "All modules built successfully.\n"
     ]
    }
   ],
   "source": [
    "from src.Bayesian_state.problems import StandardModel, StateModel\n",
    "from src.Bayesian_state.utils.load_config import MODEL_STRUCT\n",
    "\n",
    "# 打印字典并排版\n",
    "import pprint\n",
    "pprint.pprint(MODEL_STRUCT)\n",
    "\n",
    "model = StateModel(MODEL_STRUCT['default_model'])"
   ]
  },
  {
   "cell_type": "code",
   "execution_count": 6,
   "id": "ab45e8fe",
   "metadata": {},
   "outputs": [],
   "source": [
    "results_state = model.fit_step_by_step(s_data)"
   ]
  },
  {
   "cell_type": "code",
   "execution_count": 7,
   "id": "3229f3a4",
   "metadata": {},
   "outputs": [
    {
     "data": {
      "text/plain": [
       "array([0.05263158, 0.05263158, 0.05263158, 0.05263158, 0.05263158,\n",
       "       0.05263158, 0.05263158, 0.05263158, 0.05263158, 0.05263158,\n",
       "       0.05263158, 0.05263158, 0.05263158, 0.05263158, 0.05263158,\n",
       "       0.05263158, 0.05263158, 0.05263158, 0.05263158])"
      ]
     },
     "execution_count": 7,
     "metadata": {},
     "output_type": "execute_result"
    }
   ],
   "source": [
    "results_state"
   ]
  }
 ],
 "metadata": {
  "kernelspec": {
   "display_name": "cate_learn",
   "language": "python",
   "name": "python3"
  },
  "language_info": {
   "codemirror_mode": {
    "name": "ipython",
    "version": 3
   },
   "file_extension": ".py",
   "mimetype": "text/x-python",
   "name": "python",
   "nbconvert_exporter": "python",
   "pygments_lexer": "ipython3",
   "version": "3.12.11"
  }
 },
 "nbformat": 4,
 "nbformat_minor": 5
}
