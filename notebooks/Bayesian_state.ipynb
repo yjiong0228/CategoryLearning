{
 "cells": [
  {
   "cell_type": "code",
   "execution_count": 2,
   "id": "0471c4c0",
   "metadata": {},
   "outputs": [
    {
     "name": "stdout",
     "output_type": "stream",
     "text": [
      "The autoreload extension is already loaded. To reload it, use:\n",
      "  %reload_ext autoreload\n"
     ]
    }
   ],
   "source": [
    "%load_ext autoreload\n",
    "%autoreload 2\n",
    "import os\n",
    "import sys\n",
    "from pathlib import Path\n",
    "import joblib\n",
    "\n",
    "project_root = Path.cwd().parent\n",
    "sys.path.insert(0, str(project_root))"
   ]
  },
  {
   "cell_type": "code",
   "execution_count": 4,
   "id": "83fc0673",
   "metadata": {},
   "outputs": [],
   "source": [
    "from src.Bayesian_state import *\n",
    "from src.Bayesian_state.problems.config import config_fgt\n",
    "from src.Bayesian_state.problems import *\n",
    "from src.Bayesian_state.utils.optimizer import Optimizer, ConstantDict\n",
    "from src.Bayesian_state.utils.model_evaluation import ModelEval"
   ]
  },
  {
   "cell_type": "code",
   "execution_count": null,
   "id": "2c04a385",
   "metadata": {},
   "outputs": [
    {
     "name": "stdout",
     "output_type": "stream",
     "text": [
      "Using parallel optimization for multiple subjects.\n"
     ]
    }
   ],
   "source": [
    "module_configs = {\n",
    "        \"memory\": (BaseMemory, {\n",
    "            \"personal_memory_range\": {\n",
    "                \"gamma\": (0.05, 1.0),\n",
    "                \"w0\": (0.075, 0.15)\n",
    "            },\n",
    "            \"param_resolution\": 20\n",
    "        }),\n",
    "        \"perception\": (BasePerception, {})}\n",
    "\n",
    "optimizer = Optimizer(module_configs, n_jobs=10)\n",
    "\n",
    "processed_path = Path(project_root) / 'data' / 'processed'\n",
    "optimizer.prepare_data(processed_path / 'Task2_processed.csv')"
   ]
  },
  {
   "cell_type": "code",
   "execution_count": null,
   "id": "c2af6d6b",
   "metadata": {},
   "outputs": [
    {
     "name": "stderr",
     "output_type": "stream",
     "text": [
      "Processing tasks: 100%|███████████████████████████████████████████| 400/400 [00:52<00:00,  7.57it/s]\n",
      "Computing error for params: 100%|██████████| 1000/1000 [00:39<00:00, 25.33it/s]\n"
     ]
    }
   ],
   "source": [
    "iSub = 13\n",
    "training_results = optimizer.optimize_params_with_subs_parallel(\n",
    "    config_fgt, [iSub], 16, 5, 1000, stop_at=1)"
   ]
  },
  {
   "cell_type": "code",
   "execution_count": null,
   "id": "2b608f44",
   "metadata": {},
   "outputs": [],
   "source": [
    "# save results\n",
    "result_path = Path(project_root) / 'results' / 'Model_results_state'\n",
    "os.makedirs(result_path, exist_ok=True)\n",
    "\n",
    "optimizer.save_results(training_results, 'M4_PM', result_path)"
   ]
  }
 ],
 "metadata": {
  "kernelspec": {
   "display_name": "bayes",
   "language": "python",
   "name": "python3"
  },
  "language_info": {
   "codemirror_mode": {
    "name": "ipython",
    "version": 3
   },
   "file_extension": ".py",
   "mimetype": "text/x-python",
   "name": "python",
   "nbconvert_exporter": "python",
   "pygments_lexer": "ipython3",
   "version": "3.10.16"
  }
 },
 "nbformat": 4,
 "nbformat_minor": 5
}
