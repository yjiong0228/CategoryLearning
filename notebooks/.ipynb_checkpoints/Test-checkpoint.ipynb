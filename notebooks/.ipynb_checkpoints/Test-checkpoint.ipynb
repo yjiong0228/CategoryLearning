{
 "cells": [
  {
   "cell_type": "code",
   "execution_count": 1,
   "id": "4e35d949-03c5-488b-9bd3-0489eb18b550",
   "metadata": {},
   "outputs": [],
   "source": [
    "import os\n",
    "import sys\n",
    "import importlib\n",
    "from pathlib import Path\n",
    "import pandas as pd\n",
    "import numpy as np\n",
    "import joblib\n",
    "from tqdm import tqdm\n",
    "from joblib import Parallel, delayed\n",
    "from itertools import product\n",
    "from collections import defaultdict\n",
    "import matplotlib.pyplot as plt\n",
    "\n",
    "# 设定项目根目录\n",
    "project_root = Path(os.getcwd()).parent\n",
    "sys.path.append(str(project_root))\n",
    "\n",
    "# 导入数据\n",
    "processed_path = Path(project_root) / 'data' / 'processed'\n",
    "learning_data = pd.read_csv(processed_path / 'Task2_processed.csv')\n",
    "# 导入模型\n",
    "from src.Bayesian_new import *"
   ]
  },
  {
   "cell_type": "code",
   "execution_count": 6,
   "id": "a2761162-bed1-4277-b731-60ed13af615e",
   "metadata": {},
   "outputs": [
    {
     "data": {
      "text/plain": [
       "<module 'src.Bayesian_new.problems.hypo_transitions' from 'C:\\\\BIGAI\\\\Repos\\\\CategoryLearning\\\\src\\\\Bayesian_new\\\\problems\\\\hypo_transitions.py'>"
      ]
     },
     "execution_count": 6,
     "metadata": {},
     "output_type": "execute_result"
    }
   ],
   "source": [
    "import src.Bayesian_new.problems.model_v1 as model\n",
    "importlib.reload(model)\n",
    "from src.Bayesian_new.problems.model_v1 import SingleRationalModel\n",
    "\n",
    "import src.Bayesian_new.problems.config as config\n",
    "importlib.reload(config)\n",
    "from src.Bayesian_new.problems.config import config_base\n",
    "from src.Bayesian_new.problems import hypo_transitions as ht\n",
    "importlib.reload(ht)"
   ]
  },
  {
   "cell_type": "code",
   "execution_count": 7,
   "id": "a1fd9e8c-9a5f-47a8-a838-cd16d33fa979",
   "metadata": {},
   "outputs": [
    {
     "data": {
      "text/plain": [
       "<src.Bayesian_new.problems.partitions.Partition at 0x1a20e838e50>"
      ]
     },
     "execution_count": 7,
     "metadata": {},
     "output_type": "execute_result"
    }
   ],
   "source": [
    "ht.Partition(4,4, strategy=[(3, \"top_posterior\"), (5, \"ksimilar_centers\"), (3, \"random\")])"
   ]
  },
  {
   "cell_type": "code",
   "execution_count": null,
   "id": "7229b817-a0f1-49f9-bcd3-6d6e8b0ec8be",
   "metadata": {},
   "outputs": [],
   "source": []
  },
  {
   "cell_type": "code",
   "execution_count": null,
   "id": "f02df6d5-12f1-49c4-86ae-7659fa7fdd88",
   "metadata": {},
   "outputs": [],
   "source": []
  },
  {
   "cell_type": "code",
   "execution_count": null,
   "id": "9be40a93-ced2-4b49-a288-10550432a928",
   "metadata": {},
   "outputs": [],
   "source": []
  },
  {
   "cell_type": "code",
   "execution_count": null,
   "id": "350da203-ff6b-4505-b174-e921a03060ac",
   "metadata": {},
   "outputs": [],
   "source": []
  },
  {
   "cell_type": "code",
   "execution_count": 128,
   "id": "6dd83b8b-fe26-4ddc-9caf-72d889a97093",
   "metadata": {},
   "outputs": [
    {
     "name": "stdout",
     "output_type": "stream",
     "text": [
      "<function b at 0x000001B9BF57F560>\n"
     ]
    }
   ],
   "source": [
    "match b:\n",
    "    case Callable() as s:\n",
    "        print(s)\n",
    "    case _:\n",
    "        print(\"RONS\")"
   ]
  },
  {
   "cell_type": "code",
   "execution_count": null,
   "id": "f84db42f-6637-4dde-8251-42c9ab5cfc6a",
   "metadata": {},
   "outputs": [],
   "source": []
  },
  {
   "cell_type": "code",
   "execution_count": 88,
   "id": "6c3fd71b-92f5-47c7-bccf-cef3076f8970",
   "metadata": {},
   "outputs": [],
   "source": [
    "partition = Partition(4,4)"
   ]
  },
  {
   "cell_type": "code",
   "execution_count": 90,
   "id": "adff2ec7-c056-44d4-8441-5ae197ffec2d",
   "metadata": {},
   "outputs": [
    {
     "data": {
      "text/plain": [
       "116"
      ]
     },
     "execution_count": 90,
     "metadata": {},
     "output_type": "execute_result"
    }
   ],
   "source": [
    "len(partition.centers)"
   ]
  },
  {
   "cell_type": "code",
   "execution_count": 92,
   "id": "6a375a42-6eaa-492a-b751-28f9fc4f8cbe",
   "metadata": {},
   "outputs": [
    {
     "data": {
      "text/plain": [
       "('2d_axis_pair',\n",
       " {0: (0.25, 0.5, 0.25, 0.5),\n",
       "  1: (0.75, 0.5, 0.25, 0.5),\n",
       "  2: (0.25, 0.5, 0.75, 0.5),\n",
       "  3: (0.75, 0.5, 0.75, 0.5)})"
      ]
     },
     "execution_count": 92,
     "metadata": {},
     "output_type": "execute_result"
    }
   ],
   "source": [
    "partition.centers[1]"
   ]
  },
  {
   "cell_type": "code",
   "execution_count": 96,
   "id": "9c27e6de-5dfd-4f99-85eb-5034ed1be1e9",
   "metadata": {},
   "outputs": [],
   "source": [
    "data = {}\n",
    "for _, x in partition.centers:\n",
    "    for _, y in partition.centers:\n",
    "        for _, s in x.items():\n",
    "            for _, t in y.items():\n",
    "                key = (*s, *t)\n",
    "                inv = (*t, *s)\n",
    "                if key in data or inv in data:\n",
    "                    continue\n",
    "                data[key] = np.sum((np.array(s) - np.array(t))**2)**0.5"
   ]
  },
  {
   "cell_type": "code",
   "execution_count": 104,
   "id": "29174127-57cd-4697-8c6f-ebe1b0455464",
   "metadata": {},
   "outputs": [
    {
     "data": {
      "text/plain": [
       "10440"
      ]
     },
     "execution_count": 104,
     "metadata": {},
     "output_type": "execute_result"
    }
   ],
   "source": [
    "len(data)"
   ]
  },
  {
   "cell_type": "code",
   "execution_count": 108,
   "id": "8914cce1-b0ae-446d-bdbd-11c19f5a0e98",
   "metadata": {},
   "outputs": [
    {
     "name": "stdout",
     "output_type": "stream",
     "text": [
      "2.74 µs ± 7.74 ns per loop (mean ± std. dev. of 7 runs, 100,000 loops each)\n"
     ]
    }
   ],
   "source": [
    "%timeit cdist(np.array((0.25,0.5,0.75,0.5)).reshape(1,-1), np.array((0.25,0.5,0.25,0.5)).reshape(1,-1))[0]"
   ]
  },
  {
   "cell_type": "code",
   "execution_count": 102,
   "id": "613f3d0f-60e3-4c0e-9181-c82b0e532926",
   "metadata": {},
   "outputs": [
    {
     "name": "stdout",
     "output_type": "stream",
     "text": [
      "314 ns ± 0.488 ns per loop (mean ± std. dev. of 7 runs, 1,000,000 loops each)\n"
     ]
    }
   ],
   "source": [
    "%timeit data.get((*(0.25,0.5,0.75,0.5),*(0.25,0.5,0.25,0.5)), None) or data.get((*(0.25,0.5,0.25,0.5),*(0.25,0.5,0.75,0.5)), None)"
   ]
  },
  {
   "cell_type": "code",
   "execution_count": null,
   "id": "f05bf1d0-115b-477d-b162-db0d0162acdb",
   "metadata": {},
   "outputs": [],
   "source": []
  },
  {
   "cell_type": "code",
   "execution_count": null,
   "id": "dcc0408e-6721-474c-8e2c-47fbbdb0e913",
   "metadata": {},
   "outputs": [],
   "source": []
  },
  {
   "cell_type": "code",
   "execution_count": null,
   "id": "b7db161a-87b0-4637-ad4c-62fbae03d795",
   "metadata": {},
   "outputs": [],
   "source": []
  },
  {
   "cell_type": "code",
   "execution_count": null,
   "id": "2c4813ab-99c2-4bc2-872e-b43c0229836b",
   "metadata": {},
   "outputs": [],
   "source": []
  },
  {
   "cell_type": "code",
   "execution_count": null,
   "id": "e576c974-43d5-45c4-9dfe-58d588c893bc",
   "metadata": {},
   "outputs": [],
   "source": []
  },
  {
   "cell_type": "code",
   "execution_count": null,
   "id": "be2bc651-4331-4fbf-b895-980e3bc947c2",
   "metadata": {},
   "outputs": [],
   "source": []
  },
  {
   "cell_type": "code",
   "execution_count": null,
   "id": "e57f535c-ab7b-4d91-9507-aacfdbad0dfc",
   "metadata": {},
   "outputs": [],
   "source": []
  },
  {
   "cell_type": "code",
   "execution_count": null,
   "id": "97ebc7c0-071e-475b-b7e8-cad738e55e34",
   "metadata": {},
   "outputs": [],
   "source": []
  },
  {
   "cell_type": "code",
   "execution_count": 7,
   "id": "987a1ad9-0b35-4cfe-ad3f-205275146312",
   "metadata": {},
   "outputs": [],
   "source": [
    "M = np.random.dirichlet([0.5,]*300, 100).T"
   ]
  },
  {
   "cell_type": "code",
   "execution_count": 8,
   "id": "ffec47e9-8ee7-4b53-afdc-014a5b42598d",
   "metadata": {},
   "outputs": [
    {
     "data": {
      "text/plain": [
       "(300, 100)"
      ]
     },
     "execution_count": 8,
     "metadata": {},
     "output_type": "execute_result"
    }
   ],
   "source": [
    "M.shape"
   ]
  },
  {
   "cell_type": "code",
   "execution_count": 9,
   "id": "6ddb2c68-8163-4851-965e-3843c59950b7",
   "metadata": {},
   "outputs": [],
   "source": [
    "teach_id = 4\n",
    "teaching = M[:, teach_id].copy()"
   ]
  },
  {
   "cell_type": "code",
   "execution_count": 13,
   "id": "06a049ac-1068-44e8-b086-92100d2bb245",
   "metadata": {},
   "outputs": [],
   "source": [
    "d = [np.random.choice(300, p=teaching) for _ in range(200)]"
   ]
  },
  {
   "cell_type": "code",
   "execution_count": 77,
   "id": "4289811c-3e64-4ee2-8d72-d61d2b1515a7",
   "metadata": {},
   "outputs": [],
   "source": [
    "def decay(gamma, w0, length):\n",
    "    x = np.arange(length)*np.log(gamma)\n",
    "    y = 1 / (np.arange(length)+1)\n",
    "    return w0*y + np.exp(x)*(1-w0)"
   ]
  },
  {
   "cell_type": "code",
   "execution_count": 78,
   "id": "5163d36a-9498-4d01-bd76-ac61605b04e8",
   "metadata": {},
   "outputs": [
    {
     "data": {
      "text/plain": [
       "array([1.        , 0.14      , 0.04233333, 0.0259    , 0.02009   ,\n",
       "       0.01667567, 0.01428661, 0.01250009, 0.01111112, 0.01      ,\n",
       "       0.00909091, 0.00833333, 0.00769231, 0.00714286, 0.00666667,\n",
       "       0.00625   , 0.00588235, 0.00555556, 0.00526316, 0.005     ,\n",
       "       0.0047619 , 0.00454545, 0.00434783, 0.00416667, 0.004     ,\n",
       "       0.00384615, 0.0037037 , 0.00357143, 0.00344828, 0.00333333,\n",
       "       0.00322581, 0.003125  , 0.0030303 , 0.00294118, 0.00285714,\n",
       "       0.00277778, 0.0027027 , 0.00263158, 0.0025641 , 0.0025    ,\n",
       "       0.00243902, 0.00238095, 0.00232558, 0.00227273, 0.00222222,\n",
       "       0.00217391, 0.00212766, 0.00208333, 0.00204082, 0.002     ])"
      ]
     },
     "execution_count": 78,
     "metadata": {},
     "output_type": "execute_result"
    }
   ],
   "source": [
    "decay(0.1,0.1,50)"
   ]
  },
  {
   "cell_type": "code",
   "execution_count": 79,
   "id": "7ac4082b-a85f-4ea4-b150-82e6c54ebe2a",
   "metadata": {},
   "outputs": [],
   "source": [
    "def inference(d, M, forget=False, decay_args=(0.1,0.1)):\n",
    "    prior = np.ones(100)/100\n",
    "    \n",
    "    if forget:\n",
    "        dec = decay(*decay_args, len(d))[::-1]\n",
    "        log_post = np.log(prior)+(dec.reshape(-1,1)*np.log(M[d])).sum(axis=0)\n",
    "    else:\n",
    "        log_post = np.log(prior)+np.log(M[d]).sum(axis=0)\n",
    "    post = np.exp(log_post - np.max(log_post))\n",
    "    \n",
    "    return post / np.sum(post)"
   ]
  },
  {
   "cell_type": "code",
   "execution_count": 80,
   "id": "2a36ea71-5db7-4977-bef7-4baaa70a8e90",
   "metadata": {},
   "outputs": [
    {
     "data": {
      "text/plain": [
       "array([1.81080359e-04, 8.90766150e-11, 4.62968356e-06, 2.66925608e-10,\n",
       "       9.12395248e-01, 2.76590681e-06, 2.20214977e-07, 4.12072930e-06,\n",
       "       1.78517474e-02, 2.20726437e-11, 2.48351041e-05, 1.76929697e-06,\n",
       "       2.24402723e-06, 8.24795742e-08, 1.11229647e-11, 1.56909601e-08,\n",
       "       6.31591569e-09, 4.21302437e-09, 5.79624653e-06, 3.35363627e-05,\n",
       "       2.58780798e-08, 1.18547721e-04, 5.26140416e-08, 7.35336991e-05,\n",
       "       6.63039981e-10, 3.52768083e-07, 1.41032746e-07, 2.60423928e-12,\n",
       "       4.77738690e-10, 9.88766520e-15, 6.56116281e-10, 2.34876988e-06,\n",
       "       2.81825392e-10, 3.60959311e-06, 2.07014615e-09, 1.13312773e-07,\n",
       "       4.76064029e-05, 1.31424811e-07, 3.19376973e-07, 1.49642492e-13,\n",
       "       1.30007537e-07, 5.44424633e-02, 7.90979385e-08, 5.79885227e-08,\n",
       "       3.28534014e-08, 8.15404127e-03, 5.24360327e-10, 2.32254489e-10,\n",
       "       2.02205843e-06, 1.52930469e-05, 9.98889338e-09, 2.99759081e-11,\n",
       "       3.06769432e-12, 5.31956580e-09, 5.01556246e-07, 3.64356517e-12,\n",
       "       6.45713403e-05, 1.77624251e-05, 7.04776000e-13, 8.89618336e-09,\n",
       "       3.77474614e-04, 3.65573420e-07, 3.83006895e-10, 2.40972761e-03,\n",
       "       5.36432570e-04, 6.30060169e-09, 5.57298442e-15, 1.72955416e-15,\n",
       "       3.21597185e-09, 2.44823774e-05, 3.47219799e-06, 8.02403339e-06,\n",
       "       4.78446899e-12, 8.02374125e-05, 4.80352253e-07, 5.67021151e-09,\n",
       "       1.06515789e-09, 1.08656709e-07, 8.14308889e-08, 1.73101309e-08,\n",
       "       1.78710796e-11, 5.11293064e-08, 3.97118454e-07, 3.86108494e-08,\n",
       "       5.80581849e-11, 3.47331925e-13, 1.94106239e-09, 1.87977353e-06,\n",
       "       1.05091890e-10, 2.59828132e-09, 3.29491477e-07, 7.91147840e-08,\n",
       "       1.73679079e-08, 6.76428980e-05, 2.26069356e-14, 6.16229331e-06,\n",
       "       3.01236505e-03, 1.85239433e-12, 4.58647889e-07, 1.77838130e-05])"
      ]
     },
     "execution_count": 80,
     "metadata": {},
     "output_type": "execute_result"
    }
   ],
   "source": [
    "inference(d[:10], M)"
   ]
  },
  {
   "cell_type": "code",
   "execution_count": 83,
   "id": "ae37b466-cc6e-4969-9e5a-f0d9d34a9a44",
   "metadata": {},
   "outputs": [
    {
     "data": {
      "text/plain": [
       "array([4.55141043e-04, 8.38792198e-05, 4.44151629e-04, 1.96249119e-03,\n",
       "       7.20969825e-01, 7.28573201e-07, 7.95112310e-04, 3.16597511e-03,\n",
       "       5.97302547e-05, 9.34071016e-04, 3.34519460e-03, 2.87088359e-03,\n",
       "       3.75907918e-04, 1.27245726e-04, 6.56099490e-03, 2.10179844e-03,\n",
       "       3.35863784e-05, 1.17722422e-04, 2.68609176e-05, 1.14708755e-05,\n",
       "       1.44260835e-03, 3.94907982e-03, 5.01767029e-04, 1.73734259e-04,\n",
       "       1.63457830e-03, 2.26461481e-02, 1.74944870e-06, 1.87477736e-05,\n",
       "       8.83465310e-05, 1.77754823e-05, 3.09144570e-06, 2.40051989e-05,\n",
       "       1.19002410e-02, 8.94144928e-04, 3.23753548e-02, 6.10395137e-06,\n",
       "       1.91691859e-07, 1.63783823e-06, 1.55992834e-03, 1.52015277e-03,\n",
       "       1.79340725e-03, 2.65875008e-02, 1.53091690e-04, 2.43344746e-03,\n",
       "       2.60554371e-04, 6.38838408e-03, 3.22226843e-03, 1.77438270e-02,\n",
       "       1.05635994e-04, 1.15233938e-02, 3.82717384e-03, 5.22408434e-04,\n",
       "       6.21550814e-04, 6.87882106e-08, 5.81389202e-03, 6.23533540e-04,\n",
       "       3.60438906e-03, 1.30979942e-03, 7.32245165e-05, 1.93531333e-04,\n",
       "       4.89935947e-03, 9.27817606e-04, 3.89573400e-05, 3.08891163e-06,\n",
       "       5.74170493e-05, 8.61500226e-05, 1.09676919e-03, 7.91460032e-04,\n",
       "       8.55342195e-06, 4.33770484e-03, 8.54356985e-03, 1.99084524e-05,\n",
       "       1.42358269e-04, 6.99127465e-04, 2.65758206e-04, 2.81574374e-04,\n",
       "       1.95601960e-04, 5.37724903e-04, 2.61236755e-03, 1.23849438e-03,\n",
       "       5.04191593e-05, 6.31778514e-05, 4.10323226e-10, 2.74915704e-03,\n",
       "       8.15109195e-06, 5.61634337e-05, 2.26860659e-05, 8.94570527e-06,\n",
       "       6.40979303e-03, 2.53072700e-03, 3.12637577e-04, 3.52456648e-02,\n",
       "       4.09191441e-04, 3.14407242e-05, 1.27002150e-04, 5.68680642e-04,\n",
       "       1.42568510e-05, 1.45359372e-02, 2.11549169e-06, 6.68485119e-05])"
      ]
     },
     "execution_count": 83,
     "metadata": {},
     "output_type": "execute_result"
    }
   ],
   "source": [
    "inference(d[:200], M, True, (0.5,0.5))"
   ]
  },
  {
   "cell_type": "markdown",
   "id": "f0e86f44-68c7-41e5-9b24-74e1f6339766",
   "metadata": {},
   "source": [
    "$$\n",
    "W(n; \\gamma, w_0)=(1-w_0)\\gamma^{n} + \\frac{w_0}{n}\n",
    "$$"
   ]
  },
  {
   "cell_type": "code",
   "execution_count": null,
   "id": "63ab1dd6-c8c7-498a-8468-164f1d959231",
   "metadata": {},
   "outputs": [],
   "source": []
  }
 ],
 "metadata": {
  "kernelspec": {
   "display_name": "Python 3 (ipykernel)",
   "language": "python",
   "name": "python3"
  },
  "language_info": {
   "codemirror_mode": {
    "name": "ipython",
    "version": 3
   },
   "file_extension": ".py",
   "mimetype": "text/x-python",
   "name": "python",
   "nbconvert_exporter": "python",
   "pygments_lexer": "ipython3",
   "version": "3.11.7"
  }
 },
 "nbformat": 4,
 "nbformat_minor": 5
}
