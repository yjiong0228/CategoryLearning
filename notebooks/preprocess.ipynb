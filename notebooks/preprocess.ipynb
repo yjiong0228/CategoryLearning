{
 "cells": [
  {
   "cell_type": "code",
   "execution_count": null,
   "metadata": {},
   "outputs": [],
   "source": [
    "%load_ext autoreload\n",
    "%autoreload 2\n",
    "import os\n",
    "import sys\n",
    "from pathlib import Path\n",
    "import pandas as pd\n",
    "import joblib\n",
    "\n",
    "project_root = Path(os.getcwd()).parent\n",
    "sys.path.append(str(project_root))\n"
   ]
  },
  {
   "cell_type": "markdown",
   "metadata": {},
   "source": [
    "## Oral Analysis"
   ]
  },
  {
   "cell_type": "code",
   "execution_count": null,
   "metadata": {},
   "outputs": [],
   "source": [
    "from glob import glob\n",
    "import os\n",
    "import pandas as pd\n",
    "from src.preprocess_b import Recording_Processor\n",
    "\n",
    "processor = Recording_Processor()\n",
    "\n",
    "files = glob('../data/raw/Task2/*_rec.csv')\n",
    "files.sort(key=lambda x: int(x.split('_')[-2]))\n",
    "for file in files:\n",
    "    file_name = os.path.basename(file).split('.')[0][:-4]\n",
    "    new_file_path = os.path.join('../data/processed/Task2/', file_name + '_convert_rec.csv')\n",
    "    df = pd.read_csv(file)\n",
    "    result_df = processor.process(df)\n",
    "    result_df.to_csv(new_file_path, index=False)"
   ]
  },
  {
   "cell_type": "markdown",
   "metadata": {},
   "source": [
    "## Generate processed files"
   ]
  },
  {
   "cell_type": "code",
   "execution_count": 4,
   "metadata": {},
   "outputs": [],
   "source": [
    "from src.preprocess_a import Preprocessor_A\n",
    "from src.preprocess_b import Preprocessor_B\n",
    "preprocessor_a = Preprocessor_A()\n",
    "preprocessor_b = Preprocessor_B()\n",
    "\n",
    "from config import body_length, features_range, canvas_settings"
   ]
  },
  {
   "cell_type": "code",
   "execution_count": 5,
   "metadata": {},
   "outputs": [],
   "source": [
    "# Task1a, Task1b, Task3c preprocess\n",
    "def preprocess_main_a(project_root, taskID, subIDs, features_range, canvas_settings, body_length, preprocessor):\n",
    "    input_dir = Path(project_root) / 'data' / 'raw' / taskID\n",
    "    output_dir = Path(project_root) / 'data' / 'processed' / taskID \n",
    "    os.makedirs(output_dir, exist_ok=True)\n",
    "\n",
    "    for subID in subIDs:\n",
    "        if taskID == 'Task1a':\n",
    "            feature_init = pd.DataFrame({\n",
    "            'neck_length': [0.5], 'head_length': [0.5], 'leg_length': [0.5], 'tail_length': [0.5],\n",
    "            'neck_angle': [0.5], 'head_angle': [0.5], 'leg_angle': [0.5], 'tail_angle': [0.5]\n",
    "         })\n",
    "        elif taskID == 'Task1b':\n",
    "            stimulus_data = pd.read_csv(input_dir / f'{taskID}_{subID}_sti.csv')\n",
    "            feature_init = stimulus_data[stimulus_data['type'] == 2]\n",
    "        else:\n",
    "            feature_init = pd.read_csv(input_dir / f'{taskID}_{subID}_sti.csv')\n",
    "            \n",
    "        mouse_trajactory = pd.read_csv(input_dir / f'{taskID}_{subID}_mouse.csv')\n",
    "        \n",
    "        feature_trajactory = preprocessor.process(taskID, feature_init, mouse_trajactory, features_range, canvas_settings, body_length)\n",
    "        feature_trajactory.to_csv(os.path.join(output_dir, f'{taskID}_{subID}_feature.csv'), index=False)\n",
    "\n",
    "# Task2, Task3a, Task3b preprocess\n",
    "def preprocess_main_b(project_root, taskID, subIDs, preprocessor):\n",
    "    input_dir = Path(project_root) / 'data' / 'raw' / taskID\n",
    "    output_dir = Path(project_root) / 'data' / 'processed'\n",
    "    os.makedirs(output_dir, exist_ok=True)\n",
    "\n",
    "    all_data = []\n",
    "    for subID in subIDs:\n",
    "        if taskID in ['Task2']:\n",
    "            stimulus_data = pd.read_csv(input_dir / f'{taskID}_{subID}_sti.csv')\n",
    "            recording_data = pd.read_csv(input_dir / f'{taskID}_{subID}_rec.csv')\n",
    "        elif taskID == 'Task3a':\n",
    "            stimulus_data = pd.read_csv(input_dir / f'{taskID}_{subID}_sti.csv')\n",
    "        elif taskID == 'Task3b':\n",
    "            left_stimulus_data = pd.read_csv(input_dir / f'{taskID}_{subID}_left.csv')\n",
    "            right_stimulus_data = pd.read_csv(input_dir / f'{taskID}_{subID}_right.csv')\n",
    "            stimulus_data = pd.merge(left_stimulus_data, right_stimulus_data, on=['pairID'])\n",
    "\n",
    "        behavior_data = pd.read_csv(input_dir / f'{taskID}_{subID}_bhv.csv')\n",
    "\n",
    "        if taskID in ['Task2']:\n",
    "            combined_data = preprocessor.process(taskID, stimulus_data, behavior_data, recording_data)\n",
    "        else:\n",
    "            combined_data = preprocessor.process(taskID, stimulus_data, behavior_data)\n",
    "\n",
    "        combined_data.insert(0, 'iSub', subID)\n",
    "        all_data.append(combined_data)\n",
    "\n",
    "    processed_data = pd.concat(all_data, ignore_index=True)\n",
    "    processed_data.to_csv(os.path.join(output_dir, f'{taskID}_processed.csv'), index=False)"
   ]
  },
  {
   "cell_type": "code",
   "execution_count": 16,
   "metadata": {},
   "outputs": [],
   "source": [
    "# Task1b, Task3c reconstruct\n",
    "def preprocess_construct(project_root, taskID, subIDs):\n",
    "    raw_dir = Path(project_root) / 'data' / 'raw' / taskID\n",
    "    processed_dir = Path(project_root) / 'data' / 'processed' / taskID\n",
    "    output_dir = Path(project_root) / 'data' / 'processed'\n",
    "\n",
    "    all_data = []\n",
    "    for subID in subIDs:\n",
    "        if taskID == 'Task1b':\n",
    "            stimulus_data = pd.read_csv(raw_dir / f'{taskID}_{subID}_sti.csv')\n",
    "            stimulus_data = stimulus_data.drop(columns=['version', 'display_height', 'PairID'])\n",
    "            stimulus_data['type'] = stimulus_data['type'].replace({1: 'target', 2: 'adjust_init'})\n",
    "\n",
    "        elif taskID == 'Task3c':\n",
    "            stimulus_data = pd.read_csv(raw_dir / f'{taskID}_{subID}_sti.csv')\n",
    "            stimulus_data.insert(0, 'type', 'adjust_init')\n",
    "\n",
    "        feature_trajactory = pd.read_csv(processed_dir / f'{taskID}_{subID}_feature.csv')\n",
    "        adjust_after = feature_trajactory.groupby('iTrial').last().reset_index()\n",
    "\n",
    "        new_rows = stimulus_data[stimulus_data['type'] == 'adjust_init'][['iTrial', 'body_ori']].copy()\n",
    "        new_rows.insert(0, 'type', 'adjust_after')\n",
    "\n",
    "        feature_columns = ['neck_length', 'head_length', 'leg_length', 'tail_length', \n",
    "                        'neck_angle', 'head_angle', 'leg_angle', 'tail_angle']\n",
    "        new_rows = new_rows.merge(adjust_after[['iTrial'] + feature_columns], on='iTrial', how='left')\n",
    "\n",
    "        combined_data = pd.concat([stimulus_data, new_rows], ignore_index=True)\n",
    "        combined_data.insert(0, 'iSub', subID)\n",
    "        all_data.append(combined_data)\n",
    "\n",
    "    processed_data = pd.concat(all_data, ignore_index=True)\n",
    "    processed_data.to_csv(os.path.join(output_dir, f'{taskID}_processed.csv'), index=False)"
   ]
  },
  {
   "cell_type": "code",
   "execution_count": 4,
   "metadata": {},
   "outputs": [],
   "source": [
    "subIDs = [1,2,3,4,5,6,7,8,9,10,11,12,13,14,15,16,17,18,19,20,21,22,23,24]\n",
    "# preprocess_main_a(project_root, 'Task1a', subIDs, features_range, canvas_settings, body_length, preprocessor_a)\n",
    "# preprocess_main_a(project_root, 'Task1b', subIDs, features_range, canvas_settings, body_length, preprocessor_a)\n",
    "# preprocess_main_a(project_root, 'Task3c', subIDs, features_range, canvas_settings, body_length, preprocessor_a)\n",
    "\n",
    "# preprocess_construct(project_root, 'Task1b', subIDs)\n",
    "# preprocess_construct(project_root, 'Task3c', subIDs)\n",
    "\n",
    "preprocess_main_b(project_root, 'Task2', subIDs, preprocessor_b)\n",
    "# preprocess_main_b(project_root, 'Task3a', subIDs, preprocessor_b)"
   ]
  },
  {
   "cell_type": "markdown",
   "metadata": {},
   "source": [
    "## Perceptive Error Analysis"
   ]
  },
  {
   "cell_type": "code",
   "execution_count": 3,
   "metadata": {},
   "outputs": [],
   "source": [
    "# 获取项目根目录\n",
    "project_root = Path(os.getcwd()).parent\n",
    "sys.path.append(str(project_root))\n",
    "\n",
    "# 导入处理器\n",
    "import importlib\n",
    "import src.error_evaluation as error_evaluation\n",
    "importlib.reload(error_evaluation)\n",
    "from src.error_evaluation import Processor\n",
    "\n",
    "# 初始化知觉误差处理器\n",
    "error_processor = Processor()"
   ]
  },
  {
   "cell_type": "code",
   "execution_count": 4,
   "metadata": {},
   "outputs": [],
   "source": [
    "# 计算知觉误差\n",
    "processed_dir = Path(project_root) / 'data' / 'processed'\n",
    "processed_data = pd.read_csv(processed_dir / f'Task1b_processed.csv')\n",
    "\n",
    "error = error_processor.error_calculation(processed_data)\n",
    "summary = error_processor.error_summary(error)\n",
    "\n",
    "# 连续插值\n",
    "continuous_predictions = error_processor.analyze_length_error_relationship(error)"
   ]
  },
  {
   "cell_type": "code",
   "execution_count": null,
   "metadata": {},
   "outputs": [],
   "source": [
    "result_path = Path(project_root) / 'results' / 'Preprocess'\n",
    "os.makedirs(result_path, exist_ok=True)\n",
    "\n",
    "# 绘制误差图\n",
    "error_processor.plot_error(error, \"length\", result_path)\n",
    "error_processor.plot_error(error, \"angle\", result_path)\n",
    "\n",
    "# 分特征绘制误差图\n",
    "error_processor.plot_error_by_feature(error, result_path)\n",
    "\n",
    "# 绘制误差连续插值图\n",
    "error_processor.plot_error_interpolate(error, continuous_predictions, result_path)"
   ]
  }
 ],
 "metadata": {
  "kernelspec": {
   "display_name": "bayes",
   "language": "python",
   "name": "python3"
  },
  "language_info": {
   "codemirror_mode": {
    "name": "ipython",
    "version": 3
   },
   "file_extension": ".py",
   "mimetype": "text/x-python",
   "name": "python",
   "nbconvert_exporter": "python",
   "pygments_lexer": "ipython3",
   "version": "3.10.16"
  }
 },
 "nbformat": 4,
 "nbformat_minor": 2
}
