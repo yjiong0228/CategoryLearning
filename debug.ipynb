{
 "cells": [
  {
   "cell_type": "code",
   "execution_count": 19,
   "id": "adfb9b17",
   "metadata": {},
   "outputs": [],
   "source": [
    "d = {'k': int, 'v': float, 'gamma': float, 'w0': float}\n",
    "from dataclasses import make_dataclass\n",
    "cls = make_dataclass('ModelParams', d)"
   ]
  },
  {
   "cell_type": "code",
   "execution_count": 27,
   "id": "f291561d",
   "metadata": {},
   "outputs": [
    {
     "ename": "TypeError",
     "evalue": "ModelParams.__init__() got an unexpected keyword argument 'w1'",
     "output_type": "error",
     "traceback": [
      "\u001b[1;31m---------------------------------------------------------------------------\u001b[0m",
      "\u001b[1;31mTypeError\u001b[0m                                 Traceback (most recent call last)",
      "Cell \u001b[1;32mIn[27], line 2\u001b[0m\n\u001b[0;32m      1\u001b[0m kwargs \u001b[38;5;241m=\u001b[39m {\u001b[38;5;124m'\u001b[39m\u001b[38;5;124mk\u001b[39m\u001b[38;5;124m'\u001b[39m: \u001b[38;5;241m1\u001b[39m, \u001b[38;5;124m'\u001b[39m\u001b[38;5;124mv\u001b[39m\u001b[38;5;124m'\u001b[39m: \u001b[38;5;241m2.0\u001b[39m, \u001b[38;5;124m'\u001b[39m\u001b[38;5;124mgamma\u001b[39m\u001b[38;5;124m'\u001b[39m: \u001b[38;5;241m3.0\u001b[39m, \u001b[38;5;124m'\u001b[39m\u001b[38;5;124mw0\u001b[39m\u001b[38;5;124m'\u001b[39m: \u001b[38;5;241m4.0\u001b[39m, \u001b[38;5;124m'\u001b[39m\u001b[38;5;124mw1\u001b[39m\u001b[38;5;124m'\u001b[39m: \u001b[38;5;241m5.0\u001b[39m}\n\u001b[1;32m----> 2\u001b[0m params \u001b[38;5;241m=\u001b[39m \u001b[38;5;28mcls\u001b[39m(\u001b[38;5;241m*\u001b[39m\u001b[38;5;241m*\u001b[39mkwargs)\n",
      "\u001b[1;31mTypeError\u001b[0m: ModelParams.__init__() got an unexpected keyword argument 'w1'"
     ]
    }
   ],
   "source": [
    "kwargs = {'k': 1, 'v': 2.0, 'gamma': 3.0, 'w0': 4.0, 'w1': 5.0}\n",
    "params = cls(**kwargs)"
   ]
  },
  {
   "cell_type": "code",
   "execution_count": 24,
   "id": "ba4999cd",
   "metadata": {},
   "outputs": [
    {
     "data": {
      "text/plain": [
       "4.2"
      ]
     },
     "execution_count": 24,
     "metadata": {},
     "output_type": "execute_result"
    }
   ],
   "source": [
    "p.w0"
   ]
  }
 ],
 "metadata": {
  "kernelspec": {
   "display_name": "CL",
   "language": "python",
   "name": "python3"
  },
  "language_info": {
   "codemirror_mode": {
    "name": "ipython",
    "version": 3
   },
   "file_extension": ".py",
   "mimetype": "text/x-python",
   "name": "python",
   "nbconvert_exporter": "python",
   "pygments_lexer": "ipython3",
   "version": "3.12.9"
  }
 },
 "nbformat": 4,
 "nbformat_minor": 5
}
