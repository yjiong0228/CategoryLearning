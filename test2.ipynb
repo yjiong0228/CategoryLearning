{
 "cells": [
  {
   "cell_type": "code",
   "execution_count": 1,
   "metadata": {},
   "outputs": [],
   "source": [
    "import pandas as pd\n",
    "import numpy as np\n",
    "import itertools\n",
    "from scipy.stats import uniform\n",
    "from scipy.optimize import minimize"
   ]
  },
  {
   "cell_type": "code",
   "execution_count": 10,
   "metadata": {},
   "outputs": [],
   "source": [
    "# 定义模型参数\n",
    "class ModelParams:\n",
    "    def __init__(self, k, beta):\n",
    "        self.k = k\n",
    "        self.beta = beta\n",
    "        \n",
    "def get_centers(k):\n",
    "    \"\"\"根据 k 值确定两个类别的中心点\"\"\"\n",
    "    centers = {\n",
    "        1: ([0.25, 0.5, 0.5, 0.5], [0.75, 0.5, 0.5, 0.5]),  # x1 = 0.5 分割\n",
    "        2: ([0.5, 0.25, 0.5, 0.5], [0.5, 0.75, 0.5, 0.5]),  # x2 = 0.5 分割\n",
    "        3: ([0.5, 0.5, 0.25, 0.5], [0.5, 0.5, 0.75, 0.5]),  # x3 = 0.5 分割\n",
    "        4: ([0.5, 0.5, 0.5, 0.25], [0.5, 0.5, 0.5, 0.75])   # x4 = 0.5 分割\n",
    "    }\n",
    "    return centers[int(k)]\n",
    "\n",
    "# 定义似然函数\n",
    "def likelihood(params, x, c, r):\n",
    "    k, beta = int(params.k), params.beta\n",
    "    \n",
    "    # 获取对应的类别中心点\n",
    "    center1, center2 = get_centers(k)\n",
    "    \n",
    "    # 计算到两个类别中心的距离\n",
    "    d1 = np.linalg.norm(x - center1)\n",
    "    d2 = np.linalg.norm(x - center2)\n",
    "    \n",
    "    # 计算选择概率\n",
    "    p_c1 = np.exp(-beta * d1) / (np.exp(-beta * d1) + np.exp(-beta * d2))\n",
    "    p_c2 = 1 - p_c1\n",
    "    \n",
    "    # 计算似然\n",
    "    if c == 1:\n",
    "        p_c = p_c1\n",
    "    else:\n",
    "        p_c = p_c2\n",
    "    \n",
    "    if r == 1:\n",
    "        return p_c\n",
    "    else:\n",
    "        return 1 - p_c\n",
    "\n",
    "# 定义对数似然函数\n",
    "def log_likelihood(params, data):\n",
    "    ll = 0\n",
    "    for _, row in data.iterrows():\n",
    "        x = row[['feature1', 'feature2', 'feature3', 'feature4']].values\n",
    "        c = row['choice']\n",
    "        r = row['feedback']\n",
    "        ll += np.log(likelihood(params, x, c, r))\n",
    "    return -ll  # 最小化负对数似然\n",
    "\n",
    "# 定义先验分布\n",
    "def prior(params):\n",
    "    return uniform.pdf(params.k, 1, 4) * uniform.pdf(params.beta, 0, 10)\n",
    "\n",
    "# 定义后验分布\n",
    "def posterior(params, data):\n",
    "    return log_likelihood(params, data) - np.log(prior(params))\n",
    "\n",
    "# 修改优化函数以确保 k 是整数\n",
    "def fit_model(data):\n",
    "    def objective(params):\n",
    "        k, beta = params\n",
    "        return posterior(ModelParams(k=int(k), beta=beta), data)\n",
    "    \n",
    "    initial_params = [1, 1.0]  # k 初始值为 2，beta 初始值为 1.0\n",
    "    bounds = [(1, 4), (0, 10)]  # k 的范围是 [1, 4]，beta 的范围是 [0, 10]\n",
    "    \n",
    "    result = minimize(\n",
    "        objective,\n",
    "        initial_params,\n",
    "        method='L-BFGS-B',\n",
    "        bounds=bounds\n",
    "    )\n",
    "    \n",
    "    return ModelParams(k=int(round(result.x[0])), beta=result.x[1])"
   ]
  },
  {
   "cell_type": "code",
   "execution_count": 11,
   "metadata": {},
   "outputs": [
    {
     "name": "stdout",
     "output_type": "stream",
     "text": [
      "Subject 1: k = 1.00, beta = 10.00\n",
      "Subject 4: k = 1.00, beta = 10.00\n",
      "Subject 6: k = 1.00, beta = 3.30\n",
      "Subject 11: k = 1.00, beta = 2.76\n",
      "Subject 21: k = 1.00, beta = 3.04\n",
      "Subject 26: k = 1.00, beta = 3.13\n",
      "Subject 27: k = 1.00, beta = 2.06\n"
     ]
    }
   ],
   "source": [
    "# 读取CSV文件\n",
    "data = pd.read_csv('Task2.csv')\n",
    "\n",
    "# 对每个被试拟合模型\n",
    "for isub in data['iSub'].unique():\n",
    "    sub_data = data[data['iSub'] == isub]\n",
    "    fitted_params = fit_model(sub_data)\n",
    "    print(f\"Subject {isub}: k = {fitted_params.k:.2f}, beta = {fitted_params.beta:.2f}\")"
   ]
  }
 ],
 "metadata": {
  "kernelspec": {
   "display_name": "bayes",
   "language": "python",
   "name": "python3"
  },
  "language_info": {
   "codemirror_mode": {
    "name": "ipython",
    "version": 3
   },
   "file_extension": ".py",
   "mimetype": "text/x-python",
   "name": "python",
   "nbconvert_exporter": "python",
   "pygments_lexer": "ipython3",
   "version": "3.8.19"
  }
 },
 "nbformat": 4,
 "nbformat_minor": 2
}
